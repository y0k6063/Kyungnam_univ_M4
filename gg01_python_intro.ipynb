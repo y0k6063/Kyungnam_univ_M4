{
  "nbformat": 4,
  "nbformat_minor": 0,
  "metadata": {
    "kernelspec": {
      "display_name": "Python 3",
      "language": "python",
      "name": "python3"
    },
    "language_info": {
      "codemirror_mode": {
        "name": "ipython",
        "version": 3
      },
      "file_extension": ".py",
      "mimetype": "text/x-python",
      "name": "python",
      "nbconvert_exporter": "python",
      "pygments_lexer": "ipython3",
      "version": "3.6.8"
    },
    "colab": {
      "name": "gg01_python_intro.ipynb",
      "provenance": [],
      "collapsed_sections": [
        "ej4dQdqBbylv",
        "i5LZHwbTbylv",
        "654c4O2Nbylz",
        "J2e08dEJbyl0",
        "vfdEZA2Bbyl2",
        "yPGlNjzxbyl5",
        "zAhITT-3byl5",
        "Mwww_fFvbymG",
        "waPcIMfEbymH",
        "RzZV7ni3bymI"
      ],
      "include_colab_link": true
    }
  },
  "cells": [
    {
      "cell_type": "markdown",
      "metadata": {
        "id": "view-in-github",
        "colab_type": "text"
      },
      "source": [
        "<a href=\"https://colab.research.google.com/github/y0k6063/Kyungnam_univ_M4/blob/main/gg01_python_intro.ipynb\" target=\"_parent\"><img src=\"https://colab.research.google.com/assets/colab-badge.svg\" alt=\"Open In Colab\"/></a>"
      ]
    },
    {
      "cell_type": "markdown",
      "metadata": {
        "id": "IB_H34BLbylj"
      },
      "source": [
        "# 파이선 기초\n",
        "\n",
        "## 다루는 내용\n",
        "\n",
        "### 쥬피터 사용법  \n",
        "### 파이선 기본 변수\n",
        "- 정수(int), 부동소수(float), 문자(strings), 불리언(True/False),  \n",
        "- 리스트(list), 튜풀(tuple), 사전(dictionary), for문, if문\n"
      ]
    },
    {
      "cell_type": "code",
      "metadata": {
        "colab": {
          "base_uri": "https://localhost:8080/"
        },
        "id": "JL9-6aK9b66e",
        "outputId": "624ea09d-9f7a-4921-81ae-c3eaeb4a6cab"
      },
      "source": [
        "from google.colab import drive\n",
        "drive.mount('/content/drive')"
      ],
      "execution_count": 6,
      "outputs": [
        {
          "output_type": "stream",
          "text": [
            "Drive already mounted at /content/drive; to attempt to forcibly remount, call drive.mount(\"/content/drive\", force_remount=True).\n"
          ],
          "name": "stdout"
        }
      ]
    },
    {
      "cell_type": "markdown",
      "metadata": {
        "id": "HMakLsI2bylo"
      },
      "source": [
        "## 쥬피터 사용\n",
        "\n",
        "- 아나콘다 (anaconda)를 설치한 후 터미널 창에서 jupyter notebook 명령으로 실행\n",
        "- 또는 윈도우 명령창에서 jupyter notebook 실행"
      ]
    },
    {
      "cell_type": "markdown",
      "metadata": {
        "id": "QTyKWh79bylo"
      },
      "source": [
        "#### 쥬피터 팁\n",
        "\n",
        "\n",
        "- 명령 모드는 파란색, 편집모드는 초록색으로 보인다\n",
        " - fdkdsfdkf\n",
        "- 셀을 실행하려면 Shift + Enter 를 입력한다 (또는 Ctrl + Enter)\n",
        "- 두 개의 셀을 합치려면 Shift + m을 입력한다 (m: merge)\n",
        "- 셀을 둘로 나누려면 나누려는 곳에서 Shift + Ctrl + '-'를 입력한다. \n",
        "- 새로운 셀 삽입은 a(위에 삽입, above), b(아래 삽입, below)을 입력한다 (명령 모드에서)\n",
        "- 출력 화면을 감추려면/다시보려면 'o'를 입력한다 (명령 모드에서)\n",
        "- line number toggling: 'l'"
      ]
    },
    {
      "cell_type": "code",
      "metadata": {
        "colab": {
          "base_uri": "https://localhost:8080/"
        },
        "id": "cWVrnNC9bylo",
        "outputId": "2a3cd2c9-4d40-4a1e-9e54-595d5830883f"
      },
      "source": [
        "!pip install anaconda\r\n",
        "#!conda search beautifulsoup\r\n",
        "!pip install beautifulsoup4"
      ],
      "execution_count": null,
      "outputs": [
        {
          "output_type": "stream",
          "text": [
            "Requirement already satisfied: anaconda in /usr/local/lib/python3.6/dist-packages (0.0.1.1)\n",
            "Requirement already satisfied: beautifulsoup4 in /usr/local/lib/python3.6/dist-packages (4.6.3)\n"
          ],
          "name": "stdout"
        }
      ]
    },
    {
      "cell_type": "markdown",
      "metadata": {
        "id": "pg7wUe1_bylp"
      },
      "source": [
        "## 파이선 기초 문법\n",
        "- When assigning a variable in Python, you are creating a reference to the object (i.e pointer) , 메모리의 어딘가에 그 object를 만들어 저장하고 (그릇) 그 주소를 알려줌 (그릇의 장소).\n",
        "- If you assign the variable to a new variable, you are only assigning the reference, not creating a new object. (try the code below)"
      ]
    },
    {
      "cell_type": "code",
      "metadata": {
        "colab": {
          "base_uri": "https://localhost:8080/"
        },
        "id": "wi4tGR7cbylq",
        "outputId": "74cbaf5b-467c-4cf9-ab0f-e0ceb63e4452"
      },
      "source": [
        "# try to see how Python works on variables\n",
        "# id(object):  the identity of an object. The identity is a unique integer \n",
        "# for that object during its lifetime. This is also the address of the \n",
        "# object in memory.\n",
        "\n",
        "a = [1, 2,3]\n",
        "b = a\n",
        "b.append(4)\n",
        "print(a, b)\n",
        "print(id(a), id(b))\n",
        "print(3*a)\n",
        "print('\"')\n",
        "\n",
        "\n"
      ],
      "execution_count": null,
      "outputs": [
        {
          "output_type": "stream",
          "text": [
            "[1, 2, 3, 4] [1, 2, 3, 4]\n",
            "140255523429896 140255523429896\n",
            "[1, 2, 3, 4, 1, 2, 3, 4, 1, 2, 3, 4]\n",
            "\"\n"
          ],
          "name": "stdout"
        }
      ]
    },
    {
      "cell_type": "code",
      "metadata": {
        "colab": {
          "base_uri": "https://localhost:8080/"
        },
        "id": "_p55rIOszBqZ",
        "outputId": "11926954-e6c7-41bf-ee9f-6cfac94e444f"
      },
      "source": [
        "\n",
        "# just for exercise\n",
        "%%writefile test_py_2.py\n",
        "import numpy as np\n",
        "print(\"pi is: \", np.pi)\n",
        "\n",
        "# you can run scipt file in Jupyter\n",
        "%run test_py_2.py\n",
        "\n",
        "%run test_py_1.py\n",
        "\n",
        "!type test_py_1.py\n",
        "\n",
        "N\n",
        "\n",
        "%whos"
      ],
      "execution_count": null,
      "outputs": [
        {
          "output_type": "stream",
          "text": [
            "Writing test_py_2.py\n"
          ],
          "name": "stdout"
        }
      ]
    },
    {
      "cell_type": "markdown",
      "metadata": {
        "id": "Ilgd9tpibylq"
      },
      "source": [
        "# Basic Types\n",
        "- integer\n",
        "- floats\n",
        "- complex\n",
        "- booleans\n",
        "- Binary Operators: +, -,/,*, ** (power), // (floor divide),% (modulo)\n",
        "- Combine with equal sign for updated assignment: a += 5, b **= 2\n",
        "- Comparisons: <, >, ==, !=,<=, >=, is,is not, &(and), | (or), ^(xor)"
      ]
    },
    {
      "cell_type": "code",
      "metadata": {
        "id": "gnr9YtqQbylq",
        "colab": {
          "base_uri": "https://localhost:8080/"
        },
        "outputId": "a074c673-6bc7-4fe0-b51a-70f72a19caa4"
      },
      "source": [
        "a = 0b1001    # binary <--> decimal conversion\n",
        "b = 9\n",
        "a, b, int(a), bin(b), type(bin(b))"
      ],
      "execution_count": null,
      "outputs": [
        {
          "output_type": "execute_result",
          "data": {
            "text/plain": [
              "(9, 9, 9, '0b1001', str)"
            ]
          },
          "metadata": {
            "tags": []
          },
          "execution_count": 7
        }
      ]
    },
    {
      "cell_type": "code",
      "metadata": {
        "id": "wFJXWI7Ebylr",
        "colab": {
          "base_uri": "https://localhost:8080/",
          "height": 35
        },
        "outputId": "147e5574-e8d5-48cd-c716-9aa5c41bd1f6"
      },
      "source": [
        "bin(0b1001 & 0b1111)"
      ],
      "execution_count": null,
      "outputs": [
        {
          "output_type": "execute_result",
          "data": {
            "application/vnd.google.colaboratory.intrinsic+json": {
              "type": "string"
            },
            "text/plain": [
              "'0b1001'"
            ]
          },
          "metadata": {
            "tags": []
          },
          "execution_count": 8
        }
      ]
    },
    {
      "cell_type": "markdown",
      "metadata": {
        "id": "Gk7naFJbbylr"
      },
      "source": [
        "- difference between == and 'is  : The == operator compares the values of both the operands and checks for value equality. Whereas 'is' operator checks whether both the operands refer to the same object or not."
      ]
    },
    {
      "cell_type": "code",
      "metadata": {
        "id": "iw-4fuUgbylr",
        "colab": {
          "base_uri": "https://localhost:8080/"
        },
        "outputId": "da8e60f1-3e98-4b81-e774-ffbbc1eb58fc"
      },
      "source": [
        " 3 is 4, 9 is not a, 9 is a"
      ],
      "execution_count": null,
      "outputs": [
        {
          "output_type": "execute_result",
          "data": {
            "text/plain": [
              "(False, False, True)"
            ]
          },
          "metadata": {
            "tags": []
          },
          "execution_count": 9
        }
      ]
    },
    {
      "cell_type": "code",
      "metadata": {
        "id": "_BvNy5rubylr",
        "colab": {
          "base_uri": "https://localhost:8080/"
        },
        "outputId": "5986fb49-419d-4b4e-a723-1314c274fbe7"
      },
      "source": [
        "x = [1,2,3]\n",
        "x.append(4)\n",
        "y = [1,2,3,4]\n",
        "x, y, x == y, x is y, id(x), id(y)"
      ],
      "execution_count": null,
      "outputs": [
        {
          "output_type": "execute_result",
          "data": {
            "text/plain": [
              "([1, 2, 3, 4], [1, 2, 3, 4], True, False, 140255523427464, 140255523291400)"
            ]
          },
          "metadata": {
            "tags": []
          },
          "execution_count": 10
        }
      ]
    },
    {
      "cell_type": "code",
      "metadata": {
        "id": "7rHsNJTUbyls"
      },
      "source": [
        "# integer operations\n",
        "print(1 + 1)\n",
        "\n",
        "x = 3\n",
        "print(type(x))\n",
        "\n",
        "y = 0.5\n",
        "print(x+y)\n",
        "\n",
        "print(x)\n",
        "\n",
        "print(type(x), type(y))"
      ],
      "execution_count": null,
      "outputs": []
    },
    {
      "cell_type": "code",
      "metadata": {
        "scrolled": true,
        "id": "SVs8JjRDbyls",
        "colab": {
          "base_uri": "https://localhost:8080/"
        },
        "outputId": "74f22e11-f09c-4771-9450-b332423513e3"
      },
      "source": [
        "3 > 4"
      ],
      "execution_count": null,
      "outputs": [
        {
          "output_type": "execute_result",
          "data": {
            "text/plain": [
              "False"
            ]
          },
          "metadata": {
            "tags": []
          },
          "execution_count": 12
        }
      ]
    },
    {
      "cell_type": "code",
      "metadata": {
        "scrolled": true,
        "id": "WT2L55b6byls",
        "colab": {
          "base_uri": "https://localhost:8080/"
        },
        "outputId": "8ef14c83-3ab7-4724-d50b-22b8301ed3f2"
      },
      "source": [
        "3/2 , 3//2, 3%2 # division, integer division, remainder"
      ],
      "execution_count": null,
      "outputs": [
        {
          "output_type": "execute_result",
          "data": {
            "text/plain": [
              "(1.5, 1, 1)"
            ]
          },
          "metadata": {
            "tags": []
          },
          "execution_count": 13
        }
      ]
    },
    {
      "cell_type": "code",
      "metadata": {
        "id": "0SYhUzZrbyls",
        "colab": {
          "base_uri": "https://localhost:8080/"
        },
        "outputId": "2db5e12c-4630-4dd4-a1b6-9befe60588ae"
      },
      "source": [
        "test = (3 > 4)\n",
        "test, type(test)"
      ],
      "execution_count": null,
      "outputs": [
        {
          "output_type": "execute_result",
          "data": {
            "text/plain": [
              "(False, bool)"
            ]
          },
          "metadata": {
            "tags": []
          },
          "execution_count": 14
        }
      ]
    },
    {
      "cell_type": "code",
      "metadata": {
        "id": "nkyg0qUqbylt",
        "colab": {
          "base_uri": "https://localhost:8080/"
        },
        "outputId": "25be182b-7a95-4d32-8a63-511f89aa69a2"
      },
      "source": [
        "a = True\n",
        "b = False\n",
        "a & b, a | b"
      ],
      "execution_count": null,
      "outputs": [
        {
          "output_type": "execute_result",
          "data": {
            "text/plain": [
              "(False, True)"
            ]
          },
          "metadata": {
            "tags": []
          },
          "execution_count": 15
        }
      ]
    },
    {
      "cell_type": "code",
      "metadata": {
        "id": "Xv6_N2IWbylt",
        "colab": {
          "base_uri": "https://localhost:8080/"
        },
        "outputId": "fabe408f-d126-48b7-a861-b52fdb211a64"
      },
      "source": [
        "a + 3 + b , a + a + a + a + a + 10"
      ],
      "execution_count": null,
      "outputs": [
        {
          "output_type": "execute_result",
          "data": {
            "text/plain": [
              "(4, 15)"
            ]
          },
          "metadata": {
            "tags": []
          },
          "execution_count": 16
        }
      ]
    },
    {
      "cell_type": "code",
      "metadata": {
        "id": "tusuSXEIbylt",
        "colab": {
          "base_uri": "https://localhost:8080/"
        },
        "outputId": "c5f19c47-ccab-429b-c5bf-0c72aa9ab742"
      },
      "source": [
        "x = 1e6; y = 1e-3\n",
        "x, y, type(x), type(1.0)"
      ],
      "execution_count": null,
      "outputs": [
        {
          "output_type": "execute_result",
          "data": {
            "text/plain": [
              "(1000000.0, 0.001, float, float)"
            ]
          },
          "metadata": {
            "tags": []
          },
          "execution_count": 17
        }
      ]
    },
    {
      "cell_type": "code",
      "metadata": {
        "id": "rKiudA-4bylt",
        "colab": {
          "base_uri": "https://localhost:8080/"
        },
        "outputId": "6be9e4c5-2d66-46b2-a3a1-fc94a9ef5c7c"
      },
      "source": [
        "# complex numbers\n",
        "c = 1.5 + 0.5j\n",
        "print(c.real, c.imag)\n",
        "c, type(c)"
      ],
      "execution_count": null,
      "outputs": [
        {
          "output_type": "stream",
          "text": [
            "1.5 0.5\n"
          ],
          "name": "stdout"
        },
        {
          "output_type": "execute_result",
          "data": {
            "text/plain": [
              "((1.5+0.5j), complex)"
            ]
          },
          "metadata": {
            "tags": []
          },
          "execution_count": 18
        }
      ]
    },
    {
      "cell_type": "code",
      "metadata": {
        "id": "m-L6nW0Ubylu",
        "colab": {
          "base_uri": "https://localhost:8080/"
        },
        "outputId": "7e7e5694-6ecf-4b4a-b4b9-1fdc19f09a6a"
      },
      "source": [
        "x = input()    # accept it as a character string\n",
        "type(x), x, float(x)**2"
      ],
      "execution_count": null,
      "outputs": [
        {
          "output_type": "stream",
          "text": [
            "4.5\n"
          ],
          "name": "stdout"
        },
        {
          "output_type": "execute_result",
          "data": {
            "text/plain": [
              "(str, '4.5', 20.25)"
            ]
          },
          "metadata": {
            "tags": []
          },
          "execution_count": 19
        }
      ]
    },
    {
      "cell_type": "markdown",
      "metadata": {
        "id": "FaLfB3p3bylu"
      },
      "source": [
        "### So far, we've studied some Python built-in functions\n",
        "- id(), type(), print(), bin(), int(), input()\n",
        "- len(), min(), max(), sum(), any(), all(), del()\n",
        "- enumerate(), zip(), sorted(), reversed()\n",
        "- range()\n",
        "- more in https://docs.python.org/3.3/library/functions.html"
      ]
    },
    {
      "cell_type": "markdown",
      "metadata": {
        "id": "zU1LAFbkbylu"
      },
      "source": [
        "[링크 텍스트](https://)###  Scope and Global variables\n",
        "- Variables created outside of a function are knwon as global variables.\n",
        "- when vriables are created inside a function, the variables are local, and can only be used inside that function.\n",
        "- to change the value of a global vriable inside a function, use \"global\" keyword\n",
        "- if you use \"gobal\" keyword, it belongs to the global scope."
      ]
    },
    {
      "cell_type": "code",
      "metadata": {
        "id": "4W5nhAmVbylu",
        "colab": {
          "base_uri": "https://localhost:8080/"
        },
        "outputId": "cd8a9efc-2440-4067-f443-82c684662b0d"
      },
      "source": [
        "# global varibles - created outside of a function\n",
        "# \n",
        "x = 11\n",
        "y = 22\n",
        "print(\"outside of function:\", x, id(x),y,  id(y))\n",
        "def my_func():\n",
        "    x = 77\n",
        "    global y\n",
        "    y = 88\n",
        "    print(\"inside of function:\", x, id(x), y,id(y))\n",
        "\n",
        "my_func()\n",
        "print(\"after function call:\", x, id(x), y, id(y))"
      ],
      "execution_count": null,
      "outputs": [
        {
          "output_type": "stream",
          "text": [
            "outside of function: 11 10914816 22 10915168\n",
            "inside of function: 77 10916928 88 10917280\n",
            "after function call: 11 10914816 88 10917280\n"
          ],
          "name": "stdout"
        }
      ]
    },
    {
      "cell_type": "code",
      "metadata": {
        "id": "bhitSafzbylu",
        "colab": {
          "base_uri": "https://localhost:8080/"
        },
        "outputId": "bcab3db7-38a1-4046-b44c-8d5dffb33f11"
      },
      "source": [
        "# identity operators (is , is not)\n",
        "a = 3\n",
        "b = 4\n",
        "a is b, a is not b"
      ],
      "execution_count": null,
      "outputs": [
        {
          "output_type": "execute_result",
          "data": {
            "text/plain": [
              "(False, True)"
            ]
          },
          "metadata": {
            "tags": []
          },
          "execution_count": 27
        }
      ]
    },
    {
      "cell_type": "code",
      "metadata": {
        "id": "DyqsoGmvbylv",
        "colab": {
          "base_uri": "https://localhost:8080/"
        },
        "outputId": "2ad9b429-c7c8-4edb-8523-e03134e7bc2b"
      },
      "source": [
        "# membership operators\n",
        "a = [1,2,3,4]\n",
        "b = 3\n",
        "b in a, 5 not in a"
      ],
      "execution_count": null,
      "outputs": [
        {
          "output_type": "execute_result",
          "data": {
            "text/plain": [
              "(True, True)"
            ]
          },
          "metadata": {
            "tags": []
          },
          "execution_count": 28
        }
      ]
    },
    {
      "cell_type": "code",
      "metadata": {
        "id": "a0sCMYgDbylv",
        "colab": {
          "base_uri": "https://localhost:8080/"
        },
        "outputId": "e752cd0c-9a34-477d-c961-d920360b4821"
      },
      "source": [
        "# comparison operatos and logical operators\n",
        "a, b = 3, 4\n",
        "a > b or a == b"
      ],
      "execution_count": null,
      "outputs": [
        {
          "output_type": "execute_result",
          "data": {
            "text/plain": [
              "False"
            ]
          },
          "metadata": {
            "tags": []
          },
          "execution_count": 29
        }
      ]
    },
    {
      "cell_type": "code",
      "metadata": {
        "id": "8TTZSjbYbylv",
        "colab": {
          "base_uri": "https://localhost:8080/"
        },
        "outputId": "29975ad5-eeca-4c43-a90f-cc315118fa38"
      },
      "source": [
        "#### for my reference \n",
        "a = \"77777\"\n",
        "import string\n",
        "string.__file__   # __file__: imported 된 모듈의 path 를 지정하는 변수\n",
        "\n",
        "!type string.py"
      ],
      "execution_count": 11,
      "outputs": [
        {
          "output_type": "stream",
          "text": [
            "/bin/bash: line 0: type: string.py: not found\n"
          ],
          "name": "stdout"
        }
      ]
    },
    {
      "cell_type": "markdown",
      "metadata": {
        "id": "ej4dQdqBbylv"
      },
      "source": [
        "# Containers\n",
        "- string\n",
        "- list\n",
        "- tuple\n",
        "- dictionary (dict)\n",
        "- set"
      ]
    },
    {
      "cell_type": "markdown",
      "metadata": {
        "id": "i5LZHwbTbylv"
      },
      "source": [
        "### strings\n",
        "- case: s.capitalize(),s.lower(),s.swapcase(),s.title(),s.upper()\n",
        "- Conditions: s.isalnum,s.isalpha,s.isdigit,s.isupper, s.islower, s.istitle,s.isspace\n",
        "- Basic search: s.startswith(), s.endswith(),s.find(), s.index(), s.rfind(),s.rindex()\n",
        "- Format:s.format\n",
        "- Split: s.split(), s.rsplit,s.partition\n",
        "- Strip: s.strip(), s.lstrip, s.rstrip\n",
        "- Replace: s.replace()\n",
        "- Join: s.join(t) joins the strings in sequence t with s as a separator"
      ]
    },
    {
      "cell_type": "code",
      "metadata": {
        "id": "0l1lkVE7bylv",
        "colab": {
          "base_uri": "https://localhost:8080/"
        },
        "outputId": "2dd9ef69-7a9d-447a-834c-cf9d44b22e1f"
      },
      "source": [
        "s =\"heLLo\"\n",
        "s.capitalize(), s.upper(), s.lower(), s.swapcase(), s.title()"
      ],
      "execution_count": null,
      "outputs": [
        {
          "output_type": "execute_result",
          "data": {
            "text/plain": [
              "('Hello', 'HELLO', 'hello', 'HEllO', 'Hello')"
            ]
          },
          "metadata": {
            "tags": []
          },
          "execution_count": 58
        }
      ]
    },
    {
      "cell_type": "code",
      "metadata": {
        "id": "-p3YSaUObylw",
        "colab": {
          "base_uri": "https://localhost:8080/"
        },
        "outputId": "11102ee7-475d-4ad8-a51f-e1551e5b3c8b"
      },
      "source": [
        "# s.isalnum(): checks if all the characters are alphanumeric(alphabet and number) or not\n",
        "s.isalnum(), s.isalpha(), s.isdigit(), s.isupper(), s.islower(), s.istitle(),s.isspace()"
      ],
      "execution_count": null,
      "outputs": [
        {
          "output_type": "execute_result",
          "data": {
            "text/plain": [
              "(True, True, False, False, False, False, False)"
            ]
          },
          "metadata": {
            "tags": []
          },
          "execution_count": 59
        }
      ]
    },
    {
      "cell_type": "code",
      "metadata": {
        "scrolled": true,
        "id": "fRJy8phNbylw",
        "colab": {
          "base_uri": "https://localhost:8080/"
        },
        "outputId": "02b053bd-1521-4530-8ec3-a36cabf14e28"
      },
      "source": [
        "# s.find(): finds the first occurrence (s.index() 와 거의 유사)\n",
        "# s.rfind(): returns the last index where the substring str is found, or -1 if no such index exists\n",
        "s1 = \"animals: cat, dog, cat, cat, wow!!!\";\n",
        "s2 = \"cat\";\n",
        "\n",
        "print (s1.find(s2), s1.index(s2))     # first\n",
        "print (s1.rfind(s2), s1.rindex(s2))   # last\n",
        "s2.startswith('d'), s2.endswith('t')"
      ],
      "execution_count": null,
      "outputs": [
        {
          "output_type": "stream",
          "text": [
            "9 9\n",
            "24 24\n"
          ],
          "name": "stdout"
        },
        {
          "output_type": "execute_result",
          "data": {
            "text/plain": [
              "(False, True)"
            ]
          },
          "metadata": {
            "tags": []
          },
          "execution_count": 60
        }
      ]
    },
    {
      "cell_type": "code",
      "metadata": {
        "id": "JdUujaQhbylw",
        "colab": {
          "base_uri": "https://localhost:8080/",
          "height": 35
        },
        "outputId": "0896e694-a372-49f5-b0d8-a5695149f76f"
      },
      "source": [
        "\"    Too many spaces.     \".strip()"
      ],
      "execution_count": null,
      "outputs": [
        {
          "output_type": "execute_result",
          "data": {
            "application/vnd.google.colaboratory.intrinsic+json": {
              "type": "string"
            },
            "text/plain": [
              "'Too many spaces.'"
            ]
          },
          "metadata": {
            "tags": []
          },
          "execution_count": 301
        }
      ]
    },
    {
      "cell_type": "code",
      "metadata": {
        "id": "e8Ea6WCkbylw",
        "colab": {
          "base_uri": "https://localhost:8080/",
          "height": 35
        },
        "outputId": "178c42a4-7c2c-4add-d90c-2badac681c58"
      },
      "source": [
        "\"HELLO\".replace(\"E\",'e')"
      ],
      "execution_count": null,
      "outputs": [
        {
          "output_type": "execute_result",
          "data": {
            "application/vnd.google.colaboratory.intrinsic+json": {
              "type": "string"
            },
            "text/plain": [
              "'HeLLO'"
            ]
          },
          "metadata": {
            "tags": []
          },
          "execution_count": 302
        }
      ]
    },
    {
      "cell_type": "code",
      "metadata": {
        "id": "y0h5iH0Rbylw",
        "colab": {
          "base_uri": "https://localhost:8080/"
        },
        "outputId": "d3d1a25a-9dfd-49cb-ba2d-e6c13cd1f4f2"
      },
      "source": [
        "x = \"I am home\"\n",
        "y = x.split(' ')\n",
        "print(x, y)\n",
        "\"I am home\".split(' ')"
      ],
      "execution_count": null,
      "outputs": [
        {
          "output_type": "stream",
          "text": [
            "I am home ['I', 'am', 'home']\n"
          ],
          "name": "stdout"
        },
        {
          "output_type": "execute_result",
          "data": {
            "text/plain": [
              "['I', 'am', 'home']"
            ]
          },
          "metadata": {
            "tags": []
          },
          "execution_count": 303
        }
      ]
    },
    {
      "cell_type": "code",
      "metadata": {
        "id": "IRG51DRobylx",
        "colab": {
          "base_uri": "https://localhost:8080/",
          "height": 35
        },
        "outputId": "8d631eee-ef69-402e-8d24-80a510db396f"
      },
      "source": [
        "\":\".join(['1', '2', '3'])"
      ],
      "execution_count": null,
      "outputs": [
        {
          "output_type": "execute_result",
          "data": {
            "application/vnd.google.colaboratory.intrinsic+json": {
              "type": "string"
            },
            "text/plain": [
              "'1:2:3'"
            ]
          },
          "metadata": {
            "tags": []
          },
          "execution_count": 304
        }
      ]
    },
    {
      "cell_type": "code",
      "metadata": {
        "id": "b9NlWCeqbylx",
        "colab": {
          "base_uri": "https://localhost:8080/",
          "height": 35
        },
        "outputId": "ce7e6410-ab4c-4b36-aa4c-bfe1d217aa2e"
      },
      "source": [
        "s = 'Hello, how are you?'\n",
        "s = \"Hi, what's up\"\n",
        "s = '''Hello,\n",
        "       how are you'''         # tripling the quotes allows the\n",
        "                               # string to span more than one line\n",
        "s"
      ],
      "execution_count": null,
      "outputs": [
        {
          "output_type": "execute_result",
          "data": {
            "application/vnd.google.colaboratory.intrinsic+json": {
              "type": "string"
            },
            "text/plain": [
              "'Hello,\\n       how are you'"
            ]
          },
          "metadata": {
            "tags": []
          },
          "execution_count": 108
        }
      ]
    },
    {
      "cell_type": "code",
      "metadata": {
        "id": "dW43EM2Qbylx",
        "colab": {
          "base_uri": "https://localhost:8080/",
          "height": 35
        },
        "outputId": "cedd942d-f669-4be3-e8e8-2023dc7afa44"
      },
      "source": [
        "s = \"\"\"Hi,\n",
        " what's up?\"\"\"\n",
        "s"
      ],
      "execution_count": null,
      "outputs": [
        {
          "output_type": "execute_result",
          "data": {
            "application/vnd.google.colaboratory.intrinsic+json": {
              "type": "string"
            },
            "text/plain": [
              "\"Hi,\\n what's up?\""
            ]
          },
          "metadata": {
            "tags": []
          },
          "execution_count": 306
        }
      ]
    },
    {
      "cell_type": "code",
      "metadata": {
        "scrolled": true,
        "id": "3s1i1ivJbylx",
        "colab": {
          "base_uri": "https://localhost:8080/"
        },
        "outputId": "23df835f-5b62-4f24-a85b-b31ec9279733"
      },
      "source": [
        "# 한글도 OK\n",
        "print(\"문자열을 출력\")\n",
        "print('따옴표는 하나도 됩니다')"
      ],
      "execution_count": null,
      "outputs": [
        {
          "output_type": "stream",
          "text": [
            "문자열을 출력\n",
            "따옴표는 하나도 됩니다\n"
          ],
          "name": "stdout"
        }
      ]
    },
    {
      "cell_type": "code",
      "metadata": {
        "id": "b2B1xhqmbylx",
        "colab": {
          "base_uri": "https://localhost:8080/"
        },
        "outputId": "508fd7a7-1500-4445-c089-03ff6bbc8938"
      },
      "source": [
        "# indexing\n",
        "a = \"hello\"\n",
        "a[0], a[1], a[-1]"
      ],
      "execution_count": null,
      "outputs": [
        {
          "output_type": "execute_result",
          "data": {
            "text/plain": [
              "('h', 'e', 'o')"
            ]
          },
          "metadata": {
            "tags": []
          },
          "execution_count": 308
        }
      ]
    },
    {
      "cell_type": "code",
      "metadata": {
        "id": "oh4noBpibyly",
        "colab": {
          "base_uri": "https://localhost:8080/",
          "height": 35
        },
        "outputId": "ea2b443f-bc58-47e5-9656-5c8ecb015148"
      },
      "source": [
        "a = \"hello, world!\"\n",
        "a[3:8]              # 3rd to 7th (excluded) elements: elements 3, 4, 5"
      ],
      "execution_count": null,
      "outputs": [
        {
          "output_type": "execute_result",
          "data": {
            "application/vnd.google.colaboratory.intrinsic+json": {
              "type": "string"
            },
            "text/plain": [
              "'lo, w'"
            ]
          },
          "metadata": {
            "tags": []
          },
          "execution_count": 309
        }
      ]
    },
    {
      "cell_type": "code",
      "metadata": {
        "id": "VsIgtytcbyly",
        "colab": {
          "base_uri": "https://localhost:8080/",
          "height": 35
        },
        "outputId": "7540ed80-9384-4f87-a613-25929b903f90"
      },
      "source": [
        "a[2:10:2]        # Syntax: a[start:stop:step]"
      ],
      "execution_count": null,
      "outputs": [
        {
          "output_type": "execute_result",
          "data": {
            "application/vnd.google.colaboratory.intrinsic+json": {
              "type": "string"
            },
            "text/plain": [
              "'lo o'"
            ]
          },
          "metadata": {
            "tags": []
          },
          "execution_count": 310
        }
      ]
    },
    {
      "cell_type": "code",
      "metadata": {
        "id": "EAfv2VcAbyly",
        "colab": {
          "base_uri": "https://localhost:8080/",
          "height": 35
        },
        "outputId": "9a7c3de6-14e7-42a8-a950-2e0923dbac59"
      },
      "source": [
        "a[::3]          # 없으면 처음, 끝"
      ],
      "execution_count": null,
      "outputs": [
        {
          "output_type": "execute_result",
          "data": {
            "application/vnd.google.colaboratory.intrinsic+json": {
              "type": "string"
            },
            "text/plain": [
              "'hl r!'"
            ]
          },
          "metadata": {
            "tags": []
          },
          "execution_count": 311
        }
      ]
    },
    {
      "cell_type": "code",
      "metadata": {
        "id": "JLEHbAcabyly",
        "colab": {
          "base_uri": "https://localhost:8080/",
          "height": 190
        },
        "outputId": "680380e2-8bcb-4b56-d660-87a65d3ccf95"
      },
      "source": [
        "a = \"hello, world!\"\n",
        "a[2] = 'z'"
      ],
      "execution_count": null,
      "outputs": [
        {
          "output_type": "error",
          "ename": "TypeError",
          "evalue": "ignored",
          "traceback": [
            "\u001b[0;31m---------------------------------------------------------------------------\u001b[0m",
            "\u001b[0;31mTypeError\u001b[0m                                 Traceback (most recent call last)",
            "\u001b[0;32m<ipython-input-313-1d1bb05046fe>\u001b[0m in \u001b[0;36m<module>\u001b[0;34m()\u001b[0m\n\u001b[1;32m      1\u001b[0m \u001b[0ma\u001b[0m \u001b[0;34m=\u001b[0m \u001b[0;34m\"hello, world!\"\u001b[0m\u001b[0;34m\u001b[0m\u001b[0;34m\u001b[0m\u001b[0m\n\u001b[0;32m----> 2\u001b[0;31m \u001b[0ma\u001b[0m\u001b[0;34m[\u001b[0m\u001b[0;36m2\u001b[0m\u001b[0;34m]\u001b[0m \u001b[0;34m=\u001b[0m \u001b[0;34m'z'\u001b[0m\u001b[0;34m\u001b[0m\u001b[0;34m\u001b[0m\u001b[0m\n\u001b[0m",
            "\u001b[0;31mTypeError\u001b[0m: 'str' object does not support item assignment"
          ]
        }
      ]
    },
    {
      "cell_type": "code",
      "metadata": {
        "id": "LsdXMF-Ubyly",
        "colab": {
          "base_uri": "https://localhost:8080/"
        },
        "outputId": "6420668c-308d-4c6b-9e51-eeccb494c5c3"
      },
      "source": [
        "# A string is an immutable object and it is not possible to modify its contents. \n",
        "# One may however create new strings from the original one.\n",
        "b = a.replace('l', 'z', 2)  # 2번째 나타나는 것, 없으면 전부\n",
        "a, b, id(a), id(b)"
      ],
      "execution_count": null,
      "outputs": [
        {
          "output_type": "execute_result",
          "data": {
            "text/plain": [
              "('hello, world!', 'hezzo, world!', 140058226036272, 140058225665840)"
            ]
          },
          "metadata": {
            "tags": []
          },
          "execution_count": 314
        }
      ]
    },
    {
      "cell_type": "code",
      "metadata": {
        "scrolled": false,
        "id": "KV1RS-Pobylz",
        "colab": {
          "base_uri": "https://localhost:8080/",
          "height": 35
        },
        "outputId": "b52a75f8-2249-426f-b376-883ab123a19a"
      },
      "source": [
        "a.replace('l', 'z')"
      ],
      "execution_count": null,
      "outputs": [
        {
          "output_type": "execute_result",
          "data": {
            "application/vnd.google.colaboratory.intrinsic+json": {
              "type": "string"
            },
            "text/plain": [
              "'hezzo, worzd!'"
            ]
          },
          "metadata": {
            "tags": []
          },
          "execution_count": 315
        }
      ]
    },
    {
      "cell_type": "code",
      "metadata": {
        "id": "btpTpXfdbylz",
        "colab": {
          "base_uri": "https://localhost:8080/"
        },
        "outputId": "2b543fd6-81b3-4693-9f8f-04bdba84e229"
      },
      "source": [
        "for x in \"banana\":\n",
        "    print(x)"
      ],
      "execution_count": null,
      "outputs": [
        {
          "output_type": "stream",
          "text": [
            "b\n",
            "a\n",
            "n\n",
            "a\n",
            "n\n",
            "a\n"
          ],
          "name": "stdout"
        }
      ]
    },
    {
      "cell_type": "markdown",
      "metadata": {
        "id": "654c4O2Nbylz"
      },
      "source": [
        "### Iterable variables and Iterator\n",
        "- iterable containers: list, tuples, dictionary, and strings\n",
        "- iterator: an object that contains a countable number of values"
      ]
    },
    {
      "cell_type": "code",
      "metadata": {
        "id": "eJgfUGEVbylz",
        "colab": {
          "base_uri": "https://localhost:8080/"
        },
        "outputId": "92a08a6a-8043-4137-db39-19902ce8a4cb"
      },
      "source": [
        "mytuple = (\"apple\", \"banana\", \"cherry\")\n",
        "myit = iter(mytuple)\n",
        "mytuple, myit"
      ],
      "execution_count": null,
      "outputs": [
        {
          "output_type": "execute_result",
          "data": {
            "text/plain": [
              "(('apple', 'banana', 'cherry'), <tuple_iterator at 0x7f61d8cc62b0>)"
            ]
          },
          "metadata": {
            "tags": []
          },
          "execution_count": 317
        }
      ]
    },
    {
      "cell_type": "code",
      "metadata": {
        "id": "x0AhwAuqbylz",
        "colab": {
          "base_uri": "https://localhost:8080/"
        },
        "outputId": "aeb8f033-8fd4-422f-cf3a-c78ccc811de3"
      },
      "source": [
        "next(myit), next(myit), next(myit)"
      ],
      "execution_count": null,
      "outputs": [
        {
          "output_type": "execute_result",
          "data": {
            "text/plain": [
              "('apple', 'banana', 'cherry')"
            ]
          },
          "metadata": {
            "tags": []
          },
          "execution_count": 318
        }
      ]
    },
    {
      "cell_type": "code",
      "metadata": {
        "id": "nvZGRsHDbylz",
        "colab": {
          "base_uri": "https://localhost:8080/"
        },
        "outputId": "fff80eb4-1b04-4558-816f-c9fd2ec4fe00"
      },
      "source": [
        "# we can use for loop to iterate thru an iterable object\n",
        "for x in mytuple:\n",
        "    print(x)"
      ],
      "execution_count": null,
      "outputs": [
        {
          "output_type": "stream",
          "text": [
            "apple\n",
            "banana\n",
            "cherry\n"
          ],
          "name": "stdout"
        }
      ]
    },
    {
      "cell_type": "code",
      "metadata": {
        "id": "cMojnHNhbyl0",
        "colab": {
          "base_uri": "https://localhost:8080/"
        },
        "outputId": "e1fa3324-3417-43a5-d3b2-2a84bcc1da83"
      },
      "source": [
        "mystr = \"banana\"\n",
        "for x in mystr:\n",
        "    print(x)"
      ],
      "execution_count": null,
      "outputs": [
        {
          "output_type": "stream",
          "text": [
            "b\n",
            "a\n",
            "n\n",
            "a\n",
            "n\n",
            "a\n"
          ],
          "name": "stdout"
        }
      ]
    },
    {
      "cell_type": "markdown",
      "metadata": {
        "id": "J2e08dEJbyl0"
      },
      "source": [
        "### Common Sequence Functions & Methods\n",
        "- for lists, arrays, tuples, strings\n",
        "- Indexing: access item in a sequence\n",
        "- Slicing: access subset of a sequence [start: stop: step]"
      ]
    },
    {
      "cell_type": "code",
      "metadata": {
        "id": "BjctCuyvbyl0",
        "colab": {
          "base_uri": "https://localhost:8080/"
        },
        "outputId": "f31e7b65-ead2-463f-af33-0b8e2252bdea"
      },
      "source": [
        "# example\n",
        "a = [0,1,2,3]\n",
        "a, a[:], a[::], a[::2], a[-1]\n",
        "a[-1:0:-1], a[-3], a[-4],a[-1:0]"
      ],
      "execution_count": null,
      "outputs": [
        {
          "output_type": "execute_result",
          "data": {
            "text/plain": [
              "([3, 2, 1], 1, 0, [])"
            ]
          },
          "metadata": {
            "tags": []
          },
          "execution_count": 114
        }
      ]
    },
    {
      "cell_type": "code",
      "metadata": {
        "id": "Ia-qaGZSbyl0",
        "colab": {
          "base_uri": "https://localhost:8080/"
        },
        "outputId": "7b60eaec-b2ea-4e76-f93a-a055a2af06d4"
      },
      "source": [
        "len(a), max(a), min(a), sum(a)"
      ],
      "execution_count": null,
      "outputs": [
        {
          "output_type": "execute_result",
          "data": {
            "text/plain": [
              "(4, 3, 0, 6)"
            ]
          },
          "metadata": {
            "tags": []
          },
          "execution_count": 115
        }
      ]
    },
    {
      "cell_type": "code",
      "metadata": {
        "id": "3TuGlAbbbyl0",
        "colab": {
          "base_uri": "https://localhost:8080/",
          "height": 170
        },
        "outputId": "ca862da2-77da-498e-cd26-596541323494"
      },
      "source": [
        " sum([1,2,'3','a'])"
      ],
      "execution_count": null,
      "outputs": [
        {
          "output_type": "error",
          "ename": "TypeError",
          "evalue": "ignored",
          "traceback": [
            "\u001b[0;31m---------------------------------------------------------------------------\u001b[0m",
            "\u001b[0;31mTypeError\u001b[0m                                 Traceback (most recent call last)",
            "\u001b[0;32m<ipython-input-116-658d4156bad9>\u001b[0m in \u001b[0;36m<module>\u001b[0;34m()\u001b[0m\n\u001b[0;32m----> 1\u001b[0;31m \u001b[0msum\u001b[0m\u001b[0;34m(\u001b[0m\u001b[0;34m[\u001b[0m\u001b[0;36m1\u001b[0m\u001b[0;34m,\u001b[0m\u001b[0;36m2\u001b[0m\u001b[0;34m,\u001b[0m\u001b[0;34m'3'\u001b[0m\u001b[0;34m,\u001b[0m\u001b[0;34m'a'\u001b[0m\u001b[0;34m]\u001b[0m\u001b[0;34m)\u001b[0m\u001b[0;34m\u001b[0m\u001b[0;34m\u001b[0m\u001b[0m\n\u001b[0m",
            "\u001b[0;31mTypeError\u001b[0m: unsupported operand type(s) for +: 'int' and 'str'"
          ]
        }
      ]
    },
    {
      "cell_type": "code",
      "metadata": {
        "id": "VOKnxvlLbyl0",
        "colab": {
          "base_uri": "https://localhost:8080/"
        },
        "outputId": "1a938cfa-63e8-4fac-d440-f1d5bb7eed65"
      },
      "source": [
        "any(a), all(a)    # checks if any (or all) elements are True"
      ],
      "execution_count": null,
      "outputs": [
        {
          "output_type": "execute_result",
          "data": {
            "text/plain": [
              "(True, False)"
            ]
          },
          "metadata": {
            "tags": []
          },
          "execution_count": 117
        }
      ]
    },
    {
      "cell_type": "code",
      "metadata": {
        "id": "AEB6tPeubyl1",
        "colab": {
          "base_uri": "https://localhost:8080/"
        },
        "outputId": "2d5c3d11-bfea-478a-dcda-6976c403a7b3"
      },
      "source": [
        "# assign and delete\n",
        "a[2] = 4; print(a)\n",
        "a.append(3); print(a)\n",
        "del (a[1:-1]); print(a)"
      ],
      "execution_count": null,
      "outputs": [
        {
          "output_type": "stream",
          "text": [
            "[0, 1, 4, 3]\n",
            "[0, 1, 4, 3, 3]\n",
            "[0, 3]\n"
          ],
          "name": "stdout"
        }
      ]
    },
    {
      "cell_type": "code",
      "metadata": {
        "scrolled": true,
        "id": "MiK6iKC-byl1",
        "colab": {
          "base_uri": "https://localhost:8080/"
        },
        "outputId": "dcda40a7-6f58-4c1b-ca9c-cb8e9c2f35fe"
      },
      "source": [
        "a = [1,2,3,4]\n",
        "for index, value in enumerate(a, 1): # Returns tuple of index-value pairs\n",
        "    print( index, value)\n",
        "    \n",
        "for value in a:\n",
        "    print (value)"
      ],
      "execution_count": null,
      "outputs": [
        {
          "output_type": "stream",
          "text": [
            "1 1\n",
            "2 2\n",
            "3 3\n",
            "4 4\n",
            "1\n",
            "2\n",
            "3\n",
            "4\n"
          ],
          "name": "stdout"
        }
      ]
    },
    {
      "cell_type": "code",
      "metadata": {
        "id": "IY8TXsw1byl1",
        "colab": {
          "base_uri": "https://localhost:8080/"
        },
        "outputId": "822566d2-15ab-49ba-e6ad-ab043846e974"
      },
      "source": [
        "a = [1,2,3,4]\n",
        "b = ['a','b','c','d']\n",
        "print(type(zip(a,b)))\n",
        "zip(a,b).__next__()\n",
        "zip(a,b)"
      ],
      "execution_count": null,
      "outputs": [
        {
          "output_type": "stream",
          "text": [
            "<class 'zip'>\n"
          ],
          "name": "stdout"
        },
        {
          "output_type": "execute_result",
          "data": {
            "text/plain": [
              "<zip at 0x7f7f1baa0248>"
            ]
          },
          "metadata": {
            "tags": []
          },
          "execution_count": 127
        }
      ]
    },
    {
      "cell_type": "code",
      "metadata": {
        "scrolled": true,
        "id": "nqRVDuu3byl1",
        "colab": {
          "base_uri": "https://localhost:8080/"
        },
        "outputId": "418b0730-655b-4003-8639-31fdb147df1f"
      },
      "source": [
        "for (x, y) in  zip(a, b): # Pairs the elements of equal-length sequences into a list of tuples\n",
        "    print (x, y)"
      ],
      "execution_count": null,
      "outputs": [
        {
          "output_type": "stream",
          "text": [
            "1 a\n",
            "2 b\n",
            "3 c\n",
            "4 d\n"
          ],
          "name": "stdout"
        }
      ]
    },
    {
      "cell_type": "code",
      "metadata": {
        "id": "AYm4u2eObyl1",
        "colab": {
          "base_uri": "https://localhost:8080/"
        },
        "outputId": "c7f222f8-0dd6-4a16-e365-a477c7a9de70"
      },
      "source": [
        "a = [1,4,2,7,9,10]\n",
        "print(sorted(a), a)"
      ],
      "execution_count": null,
      "outputs": [
        {
          "output_type": "stream",
          "text": [
            "[1, 2, 4, 7, 9, 10] [1, 4, 2, 7, 9, 10]\n"
          ],
          "name": "stdout"
        }
      ]
    },
    {
      "cell_type": "code",
      "metadata": {
        "id": "nwRLWdPpbyl1",
        "colab": {
          "base_uri": "https://localhost:8080/"
        },
        "outputId": "17f9a4f0-d657-445b-baa4-c286128fa417"
      },
      "source": [
        "print(reversed(a))\n",
        "\n",
        "for x in reversed(a):\n",
        "    print (x)"
      ],
      "execution_count": null,
      "outputs": [
        {
          "output_type": "stream",
          "text": [
            "<list_reverseiterator object at 0x7f7f1bb305c0>\n",
            "10\n",
            "9\n",
            "7\n",
            "2\n",
            "4\n",
            "1\n"
          ],
          "name": "stdout"
        }
      ]
    },
    {
      "cell_type": "code",
      "metadata": {
        "scrolled": true,
        "id": "1W4WoeJqbyl2",
        "colab": {
          "base_uri": "https://localhost:8080/"
        },
        "outputId": "169231ab-90d9-4538-a3ce-655b43842cfd"
      },
      "source": [
        "y = []\n",
        "for x in reversed(a):\n",
        "    y.append(x)\n",
        "y"
      ],
      "execution_count": null,
      "outputs": [
        {
          "output_type": "execute_result",
          "data": {
            "text/plain": [
              "[10, 9, 7, 2, 4, 1]"
            ]
          },
          "metadata": {
            "tags": []
          },
          "execution_count": 131
        }
      ]
    },
    {
      "cell_type": "code",
      "metadata": {
        "scrolled": true,
        "id": "T1dQwzOmbyl2",
        "colab": {
          "base_uri": "https://localhost:8080/"
        },
        "outputId": "b46f9c55-1b07-453c-b7d9-92a38b7c5348"
      },
      "source": [
        "a = [1,4,2,7,9,10]\n",
        "a.sort(); print(a)    # object 내용이 바뀜에 주의 (in-place)\n",
        "a.sort(reverse=True)\n",
        "print(a)\n",
        "a = [1,4,2,7,9,10]\n",
        "print(a)\n",
        "print(reversed(a))\n",
        "for x in reversed(a):\n",
        "    print (x)"
      ],
      "execution_count": null,
      "outputs": [
        {
          "output_type": "stream",
          "text": [
            "[1, 2, 4, 7, 9, 10]\n",
            "[10, 9, 7, 4, 2, 1]\n",
            "[1, 4, 2, 7, 9, 10]\n",
            "<list_reverseiterator object at 0x7f7f1bab9e80>\n",
            "10\n",
            "9\n",
            "7\n",
            "2\n",
            "4\n",
            "1\n"
          ],
          "name": "stdout"
        }
      ]
    },
    {
      "cell_type": "code",
      "metadata": {
        "id": "aVrL1QeUbyl2",
        "colab": {
          "base_uri": "https://localhost:8080/"
        },
        "outputId": "d09f8d82-5c7f-4c28-aac4-f7d1a7157d07"
      },
      "source": [
        "# sorted() acceptes any iterables, keep the original unchanged\n",
        "# list.sort() sorts them in-place, returns null\n",
        "s = \"abug\"\n",
        "print(sorted(s, reverse=True), s)\n",
        "d = [1,3,4,2,10,7]\n",
        "sorted(d, reverse=True)\n",
        "for x in reversed(d):\n",
        "    print (x)\n",
        "print(d)"
      ],
      "execution_count": null,
      "outputs": [
        {
          "output_type": "stream",
          "text": [
            "['u', 'g', 'b', 'a'] abug\n",
            "7\n",
            "10\n",
            "2\n",
            "4\n",
            "3\n",
            "1\n",
            "[1, 3, 4, 2, 10, 7]\n"
          ],
          "name": "stdout"
        }
      ]
    },
    {
      "cell_type": "markdown",
      "metadata": {
        "id": "vfdEZA2Bbyl2"
      },
      "source": [
        "### 리스트\n",
        "- 여러 항목의 집합체로 각 항목의 타입은 서로 달라도 된다.\n",
        "- 리스트를 만들려면 대괄호 [ ]를 사용하고 각 항목을 ','로 구분한다\n",
        "- L.append(x): Appends an object x to the end of L\n",
        "- L.extend(t):Appends each element of t to the end of L\n",
        "- L.count(x): Count occurrences of x in L\n",
        "- L.index(x): Returns smallest index i where L[i] == x\n",
        "- L.insert(i,x): Inserts x at index i\n",
        "- L.pop([i]): Returns the ith element of L and removes; if i is omitted, the\n",
        "last element is popped\n",
        "- L.remove(x): Removes the first instance of x from L\n",
        "- L.reverse(): Reverses items of L in place\n",
        "- L.sort(): Sorts (in ascending order) items of L in place"
      ]
    },
    {
      "cell_type": "code",
      "metadata": {
        "id": "E449rbTsbyl2",
        "colab": {
          "base_uri": "https://localhost:8080/"
        },
        "outputId": "5835f0d4-26cf-4d20-8234-fb2bf2185676"
      },
      "source": [
        "item_2 = list([1,2,3])\n",
        "type(item_2)"
      ],
      "execution_count": null,
      "outputs": [
        {
          "output_type": "execute_result",
          "data": {
            "text/plain": [
              "list"
            ]
          },
          "metadata": {
            "tags": []
          },
          "execution_count": 160
        }
      ]
    },
    {
      "cell_type": "code",
      "metadata": {
        "id": "0eOtK0OXbyl3",
        "colab": {
          "base_uri": "https://localhost:8080/"
        },
        "outputId": "192a28f3-f48c-4632-fad1-944b030e2793"
      },
      "source": [
        "items = [1, 2, 3, 4, 5, 'kim']\n",
        "items*2"
      ],
      "execution_count": null,
      "outputs": [
        {
          "output_type": "execute_result",
          "data": {
            "text/plain": [
              "[1, 2, 3, 4, 5, 'kim', 1, 2, 3, 4, 5, 'kim']"
            ]
          },
          "metadata": {
            "tags": []
          },
          "execution_count": 161
        }
      ]
    },
    {
      "cell_type": "code",
      "metadata": {
        "id": "U9bTQ9Y6byl3",
        "colab": {
          "base_uri": "https://localhost:8080/"
        },
        "outputId": "d74df97f-c4eb-4012-c088-8d552f7f1331"
      },
      "source": [
        "# 리스트의 길이\n",
        "len(items)"
      ],
      "execution_count": null,
      "outputs": [
        {
          "output_type": "execute_result",
          "data": {
            "text/plain": [
              "6"
            ]
          },
          "metadata": {
            "tags": []
          },
          "execution_count": 162
        }
      ]
    },
    {
      "cell_type": "code",
      "metadata": {
        "id": "FYJljtqkbyl3",
        "colab": {
          "base_uri": "https://localhost:8080/"
        },
        "outputId": "1adff347-c475-43fb-80e6-4f818c323731"
      },
      "source": [
        "# 리스트에서 위치 번호는 '1'이 아니라 '0'부터 시작한다.\n",
        "items[0], items[-1]"
      ],
      "execution_count": null,
      "outputs": [
        {
          "output_type": "execute_result",
          "data": {
            "text/plain": [
              "(1, 'kim')"
            ]
          },
          "metadata": {
            "tags": []
          },
          "execution_count": 163
        }
      ]
    },
    {
      "cell_type": "code",
      "metadata": {
        "scrolled": true,
        "id": "pak7Tw4Jbyl3",
        "colab": {
          "base_uri": "https://localhost:8080/"
        },
        "outputId": "fbe6a2df-e8d5-4d3e-af17-7c4411d6c070"
      },
      "source": [
        "# 2-번째 항목을 값을 바꾸었다.\n",
        "items[2]=100   # mutable\n",
        "items"
      ],
      "execution_count": null,
      "outputs": [
        {
          "output_type": "execute_result",
          "data": {
            "text/plain": [
              "[1, 2, 100, 4, 5, 'kim']"
            ]
          },
          "metadata": {
            "tags": []
          },
          "execution_count": 164
        }
      ]
    },
    {
      "cell_type": "code",
      "metadata": {
        "id": "n7SUoPa6byl4",
        "colab": {
          "base_uri": "https://localhost:8080/"
        },
        "outputId": "eaa314da-7250-4de6-cdb6-ae912f67cd0b"
      },
      "source": [
        "items[:2]"
      ],
      "execution_count": null,
      "outputs": [
        {
          "output_type": "execute_result",
          "data": {
            "text/plain": [
              "[1, 2]"
            ]
          },
          "metadata": {
            "tags": []
          },
          "execution_count": 165
        }
      ]
    },
    {
      "cell_type": "code",
      "metadata": {
        "id": "MTxwvkS5byl4",
        "colab": {
          "base_uri": "https://localhost:8080/"
        },
        "outputId": "5368e17e-2d5b-4161-9ddf-ab721381cf71"
      },
      "source": [
        "# 뒤에서부터 인덱싱할 때는 '-' 를 사용한다.\n",
        "items[-1], items[-2]"
      ],
      "execution_count": null,
      "outputs": [
        {
          "output_type": "execute_result",
          "data": {
            "text/plain": [
              "('kim', 5)"
            ]
          },
          "metadata": {
            "tags": []
          },
          "execution_count": 166
        }
      ]
    },
    {
      "cell_type": "code",
      "metadata": {
        "id": "Lp3IRTgbbyl4",
        "colab": {
          "base_uri": "https://localhost:8080/"
        },
        "outputId": "468b67ab-22ca-489e-8a8c-a2c07d1cd31f"
      },
      "source": [
        "# 리스트의 일부 구간만 얻으려면 슬라이스(slice) ':'를 사용한다\n",
        "items[2:]"
      ],
      "execution_count": null,
      "outputs": [
        {
          "output_type": "execute_result",
          "data": {
            "text/plain": [
              "[100, 4, 5, 'kim']"
            ]
          },
          "metadata": {
            "tags": []
          },
          "execution_count": 167
        }
      ]
    },
    {
      "cell_type": "code",
      "metadata": {
        "scrolled": true,
        "id": "oEHlrxFgbyl4",
        "colab": {
          "base_uri": "https://localhost:8080/"
        },
        "outputId": "8649de96-f502-4a79-dcf3-51daab7b207f"
      },
      "source": [
        "items.append('park'); items     # object 값이 바뀜에 주의."
      ],
      "execution_count": null,
      "outputs": [
        {
          "output_type": "execute_result",
          "data": {
            "text/plain": [
              "[1, 2, 100, 4, 5, 'kim', 'park']"
            ]
          },
          "metadata": {
            "tags": []
          },
          "execution_count": 168
        }
      ]
    },
    {
      "cell_type": "code",
      "metadata": {
        "id": "KezPtWtVbyl4",
        "colab": {
          "base_uri": "https://localhost:8080/"
        },
        "outputId": "070a8f22-a2b0-4736-ee0c-58f2b4955e90"
      },
      "source": [
        "# more\n",
        "list_a = [3, 2, 5, 8, 6]\n",
        "sorted(list_a), list_a"
      ],
      "execution_count": null,
      "outputs": [
        {
          "output_type": "execute_result",
          "data": {
            "text/plain": [
              "([2, 3, 5, 6, 8], [3, 2, 5, 8, 6])"
            ]
          },
          "metadata": {
            "tags": []
          },
          "execution_count": 169
        }
      ]
    },
    {
      "cell_type": "code",
      "metadata": {
        "id": "spAEwtwfbyl5",
        "colab": {
          "base_uri": "https://localhost:8080/"
        },
        "outputId": "bec815b1-9a43-484f-c30e-87f67af9b37e"
      },
      "source": [
        "# new object - in place sorting, returns null (to avoid confusion)\n",
        "list_a.sort(),list_a"
      ],
      "execution_count": null,
      "outputs": [
        {
          "output_type": "execute_result",
          "data": {
            "text/plain": [
              "(None, [2, 3, 5, 6, 8])"
            ]
          },
          "metadata": {
            "tags": []
          },
          "execution_count": 172
        }
      ]
    },
    {
      "cell_type": "markdown",
      "metadata": {
        "id": "yPGlNjzxbyl5"
      },
      "source": [
        "### 튜플 (tuple)\n",
        "- 튜플은 리스트처럼 여러 항목의 집합을 담을 수 있는데 리스트와 달리 튜플의 내용은 '상수'로 취급되어 값을 바꿀 수 없다\n",
        "- 튜플을 만들려면 소괄호( )를 사용하여 만들거나 , 로 구분하여 나열한다."
      ]
    },
    {
      "cell_type": "code",
      "metadata": {
        "id": "ZZbl71TObyl5",
        "colab": {
          "base_uri": "https://localhost:8080/"
        },
        "outputId": "9480aa75-d514-490d-d1b9-c15dc332dcd0"
      },
      "source": [
        "my_tuple = (1, 2, 3)\n",
        "your_tuple = 4, 5,\"hello\"\n",
        "print(my_tuple + your_tuple)"
      ],
      "execution_count": null,
      "outputs": [
        {
          "output_type": "stream",
          "text": [
            "(1, 2, 3, 4, 5, 'hello')\n"
          ],
          "name": "stdout"
        }
      ]
    },
    {
      "cell_type": "code",
      "metadata": {
        "id": "bP-oECpGbyl5",
        "colab": {
          "base_uri": "https://localhost:8080/"
        },
        "outputId": "12ce2062-ef8d-41b6-b70f-e830d724d36b"
      },
      "source": [
        "a, b, c = 3, 4, 100\n",
        "print(a, b, c)"
      ],
      "execution_count": null,
      "outputs": [
        {
          "output_type": "stream",
          "text": [
            "3 4 100\n"
          ],
          "name": "stdout"
        }
      ]
    },
    {
      "cell_type": "markdown",
      "metadata": {
        "id": "zAhITT-3byl5"
      },
      "source": [
        "### 사전 (Dictionaries)\n",
        "- 딕셔너리로 키-값 조합 형태의 리스트를 만들 수 있다. (key-value pairs)\n",
        "- 딕셔너리에서는 항목을 찾을 때 키를 사용한다\n",
        "- 딕셔너너리에서 저장된 순서는 중요시하지 않는다.\n",
        "- 딕셔너리는 중괄호 {  } 로 만든다.\n",
        "- D.clear(): Removes all items from D\n",
        "- D.copy(): Makes a copy of D\n",
        "- D.fromkeys(s [,values]): Creates a new dictionary with keys from\n",
        "sequence s and values all set to value\n",
        "- D.has_key(k): Checks for key k\n",
        "- (Also, k in D.keys())\n",
        "- D.pop(k): Similar to pop for lists\n",
        "- D.popitem(): Pops an item at random\n",
        "- D.update(E): Adds all pairs from dictionary E to D"
      ]
    },
    {
      "cell_type": "code",
      "metadata": {
        "id": "laHpK7Ldbyl6",
        "colab": {
          "base_uri": "https://localhost:8080/"
        },
        "outputId": "69e32ea0-4a3d-4f6f-e040-553bae406999"
      },
      "source": [
        "my_dict = {'grade': 3,'age': 21,'name': \"kim\"  }\n",
        "print(my_dict['age']) "
      ],
      "execution_count": null,
      "outputs": [
        {
          "output_type": "stream",
          "text": [
            "21\n"
          ],
          "name": "stdout"
        }
      ]
    },
    {
      "cell_type": "code",
      "metadata": {
        "scrolled": true,
        "id": "b3Qi9NWpbyl6",
        "colab": {
          "base_uri": "https://localhost:8080/"
        },
        "outputId": "03feb1fb-2be7-4a4e-9c71-387cee5e54aa"
      },
      "source": [
        "print(my_dict.keys())\n",
        "print(my_dict.values())\n",
        "print(my_dict.items()) "
      ],
      "execution_count": null,
      "outputs": [
        {
          "output_type": "stream",
          "text": [
            "dict_keys(['grade', 'age', 'name'])\n",
            "dict_values([3, 21, 'kim'])\n",
            "dict_items([('grade', 3), ('age', 21), ('name', 'kim')])\n"
          ],
          "name": "stdout"
        }
      ]
    },
    {
      "cell_type": "code",
      "metadata": {
        "id": "jWOIvB4Cbyl6",
        "colab": {
          "base_uri": "https://localhost:8080/"
        },
        "outputId": "1c41db97-0a7d-4740-bc14-60740a09f744"
      },
      "source": [
        "my_dict['name'] = 'lee'   # mutable\n",
        "my_dict"
      ],
      "execution_count": null,
      "outputs": [
        {
          "output_type": "execute_result",
          "data": {
            "text/plain": [
              "{'age': 21, 'grade': 3, 'name': 'lee'}"
            ]
          },
          "metadata": {
            "tags": []
          },
          "execution_count": 176
        }
      ]
    },
    {
      "cell_type": "markdown",
      "metadata": {
        "id": "3rWRru4Tbyl6"
      },
      "source": [
        "# Comprehension Examples\n",
        "#### A = range(6), B = [‘a’, ‘b’ ‘c’] = ‘abc’, C = [(3,4),(7,24)]\n",
        "- [x for x in A] ---> [0,1,2,3,4,5]\n",
        "- [3*x for x in A] --->[0,3,6,9,12,15]\n",
        "- [x for x in A if x < 2] ---> [0,1]\n",
        "- [(x, x**2) for x in A if x % 2 == 0] --->[(0,0),(2,4),(4,16)]\n",
        "- [(x,y) for x in A for y in B if x == 3] --->[(3,‘a’), (3, ‘b’), (3,‘c’)]\n",
        "- [np.sqrt(x*x+y*y) for x,y in C] --->[5,25]\n",
        "- {val:i for i, val in enumerate(B)} --->{‘a’:0, ‘b’:1, ‘c’:2}\n",
        "\n",
        "#### Use ternary expressions with LCs to incorporate ‘else’ conditions on the returned value\n",
        "- [x if x < 2 else -1 for x in A] --->[0,1,-1,-1,-1,-1]"
      ]
    },
    {
      "cell_type": "code",
      "metadata": {
        "id": "n0dhVb6rbyl6"
      },
      "source": [
        "A = range(6); B = ['a','b','c']; C = [(3,4),(7,24)]"
      ],
      "execution_count": null,
      "outputs": []
    },
    {
      "cell_type": "code",
      "metadata": {
        "id": "wIPXtYyFbyl6",
        "colab": {
          "base_uri": "https://localhost:8080/"
        },
        "outputId": "7e2d53d5-362c-44a1-f582-d391e9fa0196"
      },
      "source": [
        "list(A)"
      ],
      "execution_count": null,
      "outputs": [
        {
          "output_type": "execute_result",
          "data": {
            "text/plain": [
              "[0, 1, 2, 3, 4, 5]"
            ]
          },
          "metadata": {
            "tags": []
          },
          "execution_count": 179
        }
      ]
    },
    {
      "cell_type": "code",
      "metadata": {
        "id": "d4tn8zDHbyl7",
        "colab": {
          "base_uri": "https://localhost:8080/"
        },
        "outputId": "1ea25a60-09b3-4558-8237-85f9b323a179"
      },
      "source": [
        "[3*x for x in A]"
      ],
      "execution_count": null,
      "outputs": [
        {
          "output_type": "execute_result",
          "data": {
            "text/plain": [
              "[0, 3, 6, 9, 12, 15]"
            ]
          },
          "metadata": {
            "tags": []
          },
          "execution_count": 180
        }
      ]
    },
    {
      "cell_type": "code",
      "metadata": {
        "id": "hBcuR6dcbyl7",
        "colab": {
          "base_uri": "https://localhost:8080/"
        },
        "outputId": "62615347-47c3-4314-c96b-9fa6790159e2"
      },
      "source": [
        "[x for x in A if x < 2]"
      ],
      "execution_count": null,
      "outputs": [
        {
          "output_type": "execute_result",
          "data": {
            "text/plain": [
              "[0, 1]"
            ]
          },
          "metadata": {
            "tags": []
          },
          "execution_count": 181
        }
      ]
    },
    {
      "cell_type": "code",
      "metadata": {
        "id": "WDpe1LGvbyl7",
        "colab": {
          "base_uri": "https://localhost:8080/"
        },
        "outputId": "e5254efe-5352-490e-df04-df7effca732d"
      },
      "source": [
        "[(x, x**2) for x in A if x % 2 == 0]"
      ],
      "execution_count": null,
      "outputs": [
        {
          "output_type": "execute_result",
          "data": {
            "text/plain": [
              "[(0, 0), (2, 4), (4, 16)]"
            ]
          },
          "metadata": {
            "tags": []
          },
          "execution_count": 182
        }
      ]
    },
    {
      "cell_type": "code",
      "metadata": {
        "id": "lCtgNnc-byl7",
        "colab": {
          "base_uri": "https://localhost:8080/"
        },
        "outputId": "849fc32a-3e53-4b88-9630-09aeb53502ee"
      },
      "source": [
        "[(x,y) for x in A for y in B if x == 3]"
      ],
      "execution_count": null,
      "outputs": [
        {
          "output_type": "execute_result",
          "data": {
            "text/plain": [
              "[(3, 'a'), (3, 'b'), (3, 'c')]"
            ]
          },
          "metadata": {
            "tags": []
          },
          "execution_count": 355
        }
      ]
    },
    {
      "cell_type": "code",
      "metadata": {
        "id": "bKh0kUELbyl7",
        "colab": {
          "base_uri": "https://localhost:8080/"
        },
        "outputId": "a3073013-7bae-4923-a33f-37802dce1565"
      },
      "source": [
        "[np.sqrt(x*x+y*y) for x,y in C]"
      ],
      "execution_count": null,
      "outputs": [
        {
          "output_type": "execute_result",
          "data": {
            "text/plain": [
              "[5.0, 25.0]"
            ]
          },
          "metadata": {
            "tags": []
          },
          "execution_count": 356
        }
      ]
    },
    {
      "cell_type": "code",
      "metadata": {
        "id": "c4c_5SRLbyl8",
        "colab": {
          "base_uri": "https://localhost:8080/"
        },
        "outputId": "b084624c-16a5-48fa-8279-187203638b9e"
      },
      "source": [
        "{val:i for i, val in enumerate(B)}"
      ],
      "execution_count": null,
      "outputs": [
        {
          "output_type": "execute_result",
          "data": {
            "text/plain": [
              "{'a': 0, 'b': 1, 'c': 2}"
            ]
          },
          "metadata": {
            "tags": []
          },
          "execution_count": 357
        }
      ]
    },
    {
      "cell_type": "code",
      "metadata": {
        "id": "NCqzm0Tubyl8",
        "colab": {
          "base_uri": "https://localhost:8080/"
        },
        "outputId": "bb9832d4-476c-4cff-ca2b-47da44e7b3ff"
      },
      "source": [
        "[x if x < 2 else -1 for x in A]"
      ],
      "execution_count": null,
      "outputs": [
        {
          "output_type": "execute_result",
          "data": {
            "text/plain": [
              "[0, 1, -1, -1, -1, -1]"
            ]
          },
          "metadata": {
            "tags": []
          },
          "execution_count": 358
        }
      ]
    },
    {
      "cell_type": "markdown",
      "metadata": {
        "id": "c15Zadrpbyl8"
      },
      "source": [
        "# Control flows\n",
        "- if/elif/else\n",
        "- for/range\n",
        "- while/break/continue\n",
        "- break.continue"
      ]
    },
    {
      "cell_type": "code",
      "metadata": {
        "id": "70yW2nFZbyl8",
        "colab": {
          "base_uri": "https://localhost:8080/"
        },
        "outputId": "ed703e7d-3bbe-447b-d2ee-70ea76cfa03b"
      },
      "source": [
        "x = range(1,20,5)\n",
        "for i in x:\n",
        "    print(i*10)"
      ],
      "execution_count": null,
      "outputs": [
        {
          "output_type": "stream",
          "text": [
            "10\n",
            "60\n",
            "110\n",
            "160\n"
          ],
          "name": "stdout"
        }
      ]
    },
    {
      "cell_type": "code",
      "metadata": {
        "id": "m7Qy7UMlbyl8",
        "colab": {
          "base_uri": "https://localhost:8080/"
        },
        "outputId": "03c36e2e-f191-4085-d457-7584937b46ff"
      },
      "source": [
        "list_2 = [x*10 for x in range(5)] \n",
        "print(list_2)              # [0, 10, 20, 30, 40]"
      ],
      "execution_count": null,
      "outputs": [
        {
          "output_type": "stream",
          "text": [
            "[0, 10, 20, 30, 40]\n"
          ],
          "name": "stdout"
        }
      ]
    },
    {
      "cell_type": "code",
      "metadata": {
        "id": "iKeEeUoSbyl8",
        "colab": {
          "base_uri": "https://localhost:8080/"
        },
        "outputId": "7cfb6030-d3d0-4b82-ff04-5653fc48d843"
      },
      "source": [
        "for word in ('cool', 'powerful', 'readable'):\n",
        "    print('Python is %s ' % word)\n",
        "    print('Python is', word)"
      ],
      "execution_count": null,
      "outputs": [
        {
          "output_type": "stream",
          "text": [
            "Python is cool \n",
            "Python is cool\n",
            "Python is powerful \n",
            "Python is powerful\n",
            "Python is readable \n",
            "Python is readable\n"
          ],
          "name": "stdout"
        }
      ]
    },
    {
      "cell_type": "code",
      "metadata": {
        "id": "GE9IIS8Gbyl8",
        "colab": {
          "base_uri": "https://localhost:8080/"
        },
        "outputId": "81b11b42-5648-4248-b6e8-6ec5a39391aa"
      },
      "source": [
        "x=17\n",
        "if x > 10:\n",
        "    print(\"x > 10\") \n",
        "elif x > 3:\n",
        "    print(\"10 >= x < 3\") \n",
        "else:\n",
        "    print(\" x <= 3\")\n",
        " "
      ],
      "execution_count": null,
      "outputs": [
        {
          "output_type": "stream",
          "text": [
            "x > 10\n"
          ],
          "name": "stdout"
        }
      ]
    },
    {
      "cell_type": "code",
      "metadata": {
        "id": "4BeuTPLybyl9",
        "colab": {
          "base_uri": "https://localhost:8080/"
        },
        "outputId": "6aca7c2f-b8cf-44cb-d18c-c2f983d6a1e5"
      },
      "source": [
        "z = -3\n",
        "while abs(z) < 20:\n",
        "    z = z**2 + 1\n",
        "z"
      ],
      "execution_count": null,
      "outputs": [
        {
          "output_type": "execute_result",
          "data": {
            "text/plain": [
              "101"
            ]
          },
          "metadata": {
            "tags": []
          },
          "execution_count": 363
        }
      ]
    },
    {
      "cell_type": "code",
      "metadata": {
        "id": "PBxiS8fQbyl9",
        "colab": {
          "base_uri": "https://localhost:8080/"
        },
        "outputId": "ef0ef401-5387-49b2-81b4-674ed711eb70"
      },
      "source": [
        "# continue - the next iteration of a loop.\n",
        "a = [1, 0, 2, 4]\n",
        "for element in a:\n",
        "    if element == 0:\n",
        "        continue\n",
        "    print(1. / element)"
      ],
      "execution_count": null,
      "outputs": [
        {
          "output_type": "stream",
          "text": [
            "1.0\n",
            "0.5\n",
            "0.25\n"
          ],
          "name": "stdout"
        }
      ]
    },
    {
      "cell_type": "code",
      "metadata": {
        "id": "EF8IlqlSbyl9",
        "colab": {
          "base_uri": "https://localhost:8080/"
        },
        "outputId": "39985732-cb43-4a5b-c324-e7251d87a50a"
      },
      "source": [
        "# break - out of enclosing for/while loop:\n",
        "a = [1, 0, 2, 4]\n",
        "for element in a:\n",
        "    if element == 0:\n",
        "        break\n",
        "    print(1. / element)"
      ],
      "execution_count": null,
      "outputs": [
        {
          "output_type": "stream",
          "text": [
            "1.0\n"
          ],
          "name": "stdout"
        }
      ]
    },
    {
      "cell_type": "code",
      "metadata": {
        "id": "UZQ7Hpribyl9",
        "colab": {
          "base_uri": "https://localhost:8080/"
        },
        "outputId": "1584c11c-fe5b-4d3b-ba22-29cdff7a055c"
      },
      "source": [
        "items = [ 1, 5, 100]\n",
        "\n",
        "for x in items:\n",
        "    print(x**3)"
      ],
      "execution_count": null,
      "outputs": [
        {
          "output_type": "stream",
          "text": [
            "1\n",
            "125\n",
            "1000000\n"
          ],
          "name": "stdout"
        }
      ]
    },
    {
      "cell_type": "markdown",
      "metadata": {
        "id": "mpATlsONbyl9"
      },
      "source": [
        "### enumeration"
      ]
    },
    {
      "cell_type": "code",
      "metadata": {
        "id": "Q0iVNm4Sbyl-",
        "colab": {
          "base_uri": "https://localhost:8080/"
        },
        "outputId": "c4e9ef02-8105-4179-ea68-af4d6ecc9f1b"
      },
      "source": [
        "words = ['cool', 'powerful','readable']\n",
        "for i in range (0, len(words)):\n",
        "    print(i, words[i])"
      ],
      "execution_count": null,
      "outputs": [
        {
          "output_type": "stream",
          "text": [
            "0 cool\n",
            "1 powerful\n",
            "2 readable\n"
          ],
          "name": "stdout"
        }
      ]
    },
    {
      "cell_type": "code",
      "metadata": {
        "id": "zpJfcG5Mbyl-",
        "colab": {
          "base_uri": "https://localhost:8080/"
        },
        "outputId": "187761eb-2a95-4f01-e605-450553fad5b4"
      },
      "source": [
        "for index, item in enumerate(words, 1):\n",
        "    print(index, item)"
      ],
      "execution_count": null,
      "outputs": [
        {
          "output_type": "stream",
          "text": [
            "1 cool\n",
            "2 powerful\n",
            "3 readable\n"
          ],
          "name": "stdout"
        }
      ]
    },
    {
      "cell_type": "markdown",
      "metadata": {
        "id": "yRK3tNj-byl-"
      },
      "source": [
        "### sort()"
      ]
    },
    {
      "cell_type": "code",
      "metadata": {
        "id": "C1A7bf8rbyl-",
        "colab": {
          "base_uri": "https://localhost:8080/"
        },
        "outputId": "bd092aaa-ca63-4045-f16e-22a78f29e22c"
      },
      "source": [
        "x = [2,1,3,5,4]\n",
        "x.sort()                # 실행 후 리스트의 내용이 바뀜에 주의\n",
        "x"
      ],
      "execution_count": null,
      "outputs": [
        {
          "output_type": "execute_result",
          "data": {
            "text/plain": [
              "[1, 2, 3, 4, 5]"
            ]
          },
          "metadata": {
            "tags": []
          },
          "execution_count": 184
        }
      ]
    },
    {
      "cell_type": "code",
      "metadata": {
        "id": "B0vDLlY8byl-",
        "colab": {
          "base_uri": "https://localhost:8080/"
        },
        "outputId": "a7a89dfb-0c3f-4d00-c2ec-e37593be1e32"
      },
      "source": [
        "# 원래 리스트 내용이 바뀌지 않음\n",
        "x = [2,1,3,5,4]\n",
        "sorted(x), x"
      ],
      "execution_count": null,
      "outputs": [
        {
          "output_type": "execute_result",
          "data": {
            "text/plain": [
              "([1, 2, 3, 4, 5], [2, 1, 3, 5, 4])"
            ]
          },
          "metadata": {
            "tags": []
          },
          "execution_count": 185
        }
      ]
    },
    {
      "cell_type": "code",
      "metadata": {
        "scrolled": true,
        "id": "lLqZvJ2kbyl-",
        "colab": {
          "base_uri": "https://localhost:8080/"
        },
        "outputId": "f7a917d5-d1b5-4e77-ac7f-a68f154d4313"
      },
      "source": [
        "x = [2,1,3,5,4]\n",
        "x.sort(reverse=True); x"
      ],
      "execution_count": null,
      "outputs": [
        {
          "output_type": "execute_result",
          "data": {
            "text/plain": [
              "[5, 4, 3, 2, 1]"
            ]
          },
          "metadata": {
            "tags": []
          },
          "execution_count": 371
        }
      ]
    },
    {
      "cell_type": "code",
      "metadata": {
        "id": "2_qbVDhjbyl_",
        "colab": {
          "base_uri": "https://localhost:8080/"
        },
        "outputId": "a858906b-ab9b-4780-c8fa-c3de66107c80"
      },
      "source": [
        "# space 나 리턴은 () 혹은 {} 블록 내에서는 무시되므로 코드가 길 경우 여러줄 표시 가능\n",
        "# 블록 밖에서 여러줄 주고 싶을 때에는 \"\\\" 사용\n",
        "x = 4 + 3 + 5 + 6 \\\n",
        "    + 7\n",
        "x"
      ],
      "execution_count": null,
      "outputs": [
        {
          "output_type": "execute_result",
          "data": {
            "text/plain": [
              "25"
            ]
          },
          "metadata": {
            "tags": []
          },
          "execution_count": 188
        }
      ]
    },
    {
      "cell_type": "code",
      "metadata": {
        "id": "M_gpjSOYbyl-",
        "colab": {
          "base_uri": "https://localhost:8080/",
          "height": 141
        },
        "outputId": "88c8810a-9a35-49fa-8c41-b47953f5f3b9"
      },
      "source": [
        "import pandas as pd\n",
        "df = pd.DataFrame({'순서': [1,2,3], \n",
        "                   '이름': ['park', 'lee', 'choi'],\n",
        "                   '나이': [30, 20, 40]})\n",
        "df.sort_values(by=['순서'], ascending=True)"
      ],
      "execution_count": null,
      "outputs": [
        {
          "output_type": "execute_result",
          "data": {
            "text/html": [
              "<div>\n",
              "<style scoped>\n",
              "    .dataframe tbody tr th:only-of-type {\n",
              "        vertical-align: middle;\n",
              "    }\n",
              "\n",
              "    .dataframe tbody tr th {\n",
              "        vertical-align: top;\n",
              "    }\n",
              "\n",
              "    .dataframe thead th {\n",
              "        text-align: right;\n",
              "    }\n",
              "</style>\n",
              "<table border=\"1\" class=\"dataframe\">\n",
              "  <thead>\n",
              "    <tr style=\"text-align: right;\">\n",
              "      <th></th>\n",
              "      <th>순서</th>\n",
              "      <th>이름</th>\n",
              "      <th>나이</th>\n",
              "    </tr>\n",
              "  </thead>\n",
              "  <tbody>\n",
              "    <tr>\n",
              "      <th>0</th>\n",
              "      <td>1</td>\n",
              "      <td>park</td>\n",
              "      <td>30</td>\n",
              "    </tr>\n",
              "    <tr>\n",
              "      <th>1</th>\n",
              "      <td>2</td>\n",
              "      <td>lee</td>\n",
              "      <td>20</td>\n",
              "    </tr>\n",
              "    <tr>\n",
              "      <th>2</th>\n",
              "      <td>3</td>\n",
              "      <td>choi</td>\n",
              "      <td>40</td>\n",
              "    </tr>\n",
              "  </tbody>\n",
              "</table>\n",
              "</div>"
            ],
            "text/plain": [
              "   순서    이름  나이\n",
              "0   1  park  30\n",
              "1   2   lee  20\n",
              "2   3  choi  40"
            ]
          },
          "metadata": {
            "tags": []
          },
          "execution_count": 189
        }
      ]
    },
    {
      "cell_type": "code",
      "metadata": {
        "id": "eyi6Ud_sbyl_"
      },
      "source": [
        "### 한글 표시"
      ],
      "execution_count": null,
      "outputs": []
    },
    {
      "cell_type": "code",
      "metadata": {
        "id": "RCTTf-vRbyl_"
      },
      "source": [
        "import platform\n",
        "import numpy as np\n",
        "from matplotlib import font_manager, rc \n",
        "import matplotlib as plt\n",
        "# '-' 부호가 제대로 표시되게 하는 설정 \n",
        "matplotlib.rcParams['axes.unicode_minus'] = False\n",
        "# 운영 체제마다 한글이 보이게 하는 설정 # 윈도우\n",
        "if platform.system() == 'Windows':\n",
        "    path = \"c:\\Windows\\Fonts\\malgun.ttf\"\n",
        "    font_name = font_manager.FontProperties(fname=path).get_name() \n",
        "    rc('font', family=font_name)\n",
        "#맥\n",
        "elif platform.system() == 'Darwin': \n",
        "    rc('font', family='AppleGothic')\n",
        "# 리눅스\n",
        "elif platform.system() == 'Linux':\n",
        "    rc('font', family='NanumBarunGothic')"
      ],
      "execution_count": null,
      "outputs": []
    },
    {
      "cell_type": "code",
      "metadata": {
        "id": "1b_jBMIRbyl_",
        "colab": {
          "base_uri": "https://localhost:8080/",
          "height": 241
        },
        "outputId": "647b4a5c-11c7-4e5f-ee6f-f9af0e12ea60"
      },
      "source": [
        "x = range(100)\n",
        "y1 = np.random.rand(100)\n",
        "y2 = np.random.randn(100)\n",
        "plt.scatter(x,y1)\n",
        "plt.scatter(x,y2, c='r', s=5)\n",
        "plt.xlabel('x 축입니다')\n",
        "plt.ylabel('y 축입니다')"
      ],
      "execution_count": null,
      "outputs": [
        {
          "output_type": "error",
          "ename": "AttributeError",
          "evalue": "ignored",
          "traceback": [
            "\u001b[0;31m---------------------------------------------------------------------------\u001b[0m",
            "\u001b[0;31mAttributeError\u001b[0m                            Traceback (most recent call last)",
            "\u001b[0;32m<ipython-input-196-48d2645fc491>\u001b[0m in \u001b[0;36m<module>\u001b[0;34m()\u001b[0m\n\u001b[1;32m      2\u001b[0m \u001b[0my1\u001b[0m \u001b[0;34m=\u001b[0m \u001b[0mnp\u001b[0m\u001b[0;34m.\u001b[0m\u001b[0mrandom\u001b[0m\u001b[0;34m.\u001b[0m\u001b[0mrand\u001b[0m\u001b[0;34m(\u001b[0m\u001b[0;36m100\u001b[0m\u001b[0;34m)\u001b[0m\u001b[0;34m\u001b[0m\u001b[0;34m\u001b[0m\u001b[0m\n\u001b[1;32m      3\u001b[0m \u001b[0my2\u001b[0m \u001b[0;34m=\u001b[0m \u001b[0mnp\u001b[0m\u001b[0;34m.\u001b[0m\u001b[0mrandom\u001b[0m\u001b[0;34m.\u001b[0m\u001b[0mrandn\u001b[0m\u001b[0;34m(\u001b[0m\u001b[0;36m100\u001b[0m\u001b[0;34m)\u001b[0m\u001b[0;34m\u001b[0m\u001b[0;34m\u001b[0m\u001b[0m\n\u001b[0;32m----> 4\u001b[0;31m \u001b[0mplt\u001b[0m\u001b[0;34m.\u001b[0m\u001b[0mscatter\u001b[0m\u001b[0;34m(\u001b[0m\u001b[0mx\u001b[0m\u001b[0;34m,\u001b[0m\u001b[0my1\u001b[0m\u001b[0;34m)\u001b[0m\u001b[0;34m\u001b[0m\u001b[0;34m\u001b[0m\u001b[0m\n\u001b[0m\u001b[1;32m      5\u001b[0m \u001b[0mplt\u001b[0m\u001b[0;34m.\u001b[0m\u001b[0mscatter\u001b[0m\u001b[0;34m(\u001b[0m\u001b[0mx\u001b[0m\u001b[0;34m,\u001b[0m\u001b[0my2\u001b[0m\u001b[0;34m,\u001b[0m \u001b[0mc\u001b[0m\u001b[0;34m=\u001b[0m\u001b[0;34m'r'\u001b[0m\u001b[0;34m,\u001b[0m \u001b[0ms\u001b[0m\u001b[0;34m=\u001b[0m\u001b[0;36m5\u001b[0m\u001b[0;34m)\u001b[0m\u001b[0;34m\u001b[0m\u001b[0;34m\u001b[0m\u001b[0m\n\u001b[1;32m      6\u001b[0m \u001b[0mplt\u001b[0m\u001b[0;34m.\u001b[0m\u001b[0mxlabel\u001b[0m\u001b[0;34m(\u001b[0m\u001b[0;34m'x 축입니다'\u001b[0m\u001b[0;34m)\u001b[0m\u001b[0;34m\u001b[0m\u001b[0;34m\u001b[0m\u001b[0m\n",
            "\u001b[0;31mAttributeError\u001b[0m: module 'matplotlib' has no attribute 'scatter'"
          ]
        }
      ]
    },
    {
      "cell_type": "code",
      "metadata": {
        "id": "QbhrkpIxbyl_",
        "colab": {
          "base_uri": "https://localhost:8080/",
          "height": 639
        },
        "outputId": "c2e5b751-b05a-4e75-bb93-8dc0ed8e32da"
      },
      "source": [
        "import numpy as np\n",
        "import matplotlib.pyplot as plt\n",
        "%matplotlib inline\n",
        "n = 10\n",
        "y = np.random.randn(n)\n",
        "plt.plot(range(n), y)\n",
        "plt.xlabel('시간')\n",
        "plt.ylabel('랜덤 값')"
      ],
      "execution_count": null,
      "outputs": [
        {
          "output_type": "execute_result",
          "data": {
            "text/plain": [
              "Text(0, 0.5, '랜덤 값')"
            ]
          },
          "metadata": {
            "tags": []
          },
          "execution_count": 99
        },
        {
          "output_type": "stream",
          "text": [
            "/usr/local/lib/python3.6/dist-packages/matplotlib/backends/backend_agg.py:214: RuntimeWarning: Glyph 49884 missing from current font.\n",
            "  font.set_text(s, 0.0, flags=flags)\n",
            "/usr/local/lib/python3.6/dist-packages/matplotlib/backends/backend_agg.py:214: RuntimeWarning: Glyph 44036 missing from current font.\n",
            "  font.set_text(s, 0.0, flags=flags)\n",
            "/usr/local/lib/python3.6/dist-packages/matplotlib/backends/backend_agg.py:183: RuntimeWarning: Glyph 49884 missing from current font.\n",
            "  font.set_text(s, 0, flags=flags)\n",
            "/usr/local/lib/python3.6/dist-packages/matplotlib/backends/backend_agg.py:183: RuntimeWarning: Glyph 44036 missing from current font.\n",
            "  font.set_text(s, 0, flags=flags)\n",
            "/usr/local/lib/python3.6/dist-packages/matplotlib/backends/backend_agg.py:214: RuntimeWarning: Glyph 47004 missing from current font.\n",
            "  font.set_text(s, 0.0, flags=flags)\n",
            "/usr/local/lib/python3.6/dist-packages/matplotlib/backends/backend_agg.py:214: RuntimeWarning: Glyph 45924 missing from current font.\n",
            "  font.set_text(s, 0.0, flags=flags)\n",
            "/usr/local/lib/python3.6/dist-packages/matplotlib/backends/backend_agg.py:214: RuntimeWarning: Glyph 44050 missing from current font.\n",
            "  font.set_text(s, 0.0, flags=flags)\n",
            "/usr/local/lib/python3.6/dist-packages/matplotlib/backends/backend_agg.py:183: RuntimeWarning: Glyph 47004 missing from current font.\n",
            "  font.set_text(s, 0, flags=flags)\n",
            "/usr/local/lib/python3.6/dist-packages/matplotlib/backends/backend_agg.py:183: RuntimeWarning: Glyph 45924 missing from current font.\n",
            "  font.set_text(s, 0, flags=flags)\n",
            "/usr/local/lib/python3.6/dist-packages/matplotlib/backends/backend_agg.py:183: RuntimeWarning: Glyph 44050 missing from current font.\n",
            "  font.set_text(s, 0, flags=flags)\n"
          ],
          "name": "stderr"
        },
        {
          "output_type": "display_data",
          "data": {
            "image/png": "[encoded data removed]",
            "text/plain": [
              "<Figure size 432x288 with 1 Axes>"
            ]
          },
          "metadata": {
            "tags": [],
            "needs_background": "light"
          }
        }
      ]
    },
    {
      "cell_type": "markdown",
      "metadata": {
        "id": "5v8ajCFcbyl_"
      },
      "source": [
        "### 함수 정의\n",
        "-  by default, functions return None."
      ]
    },
    {
      "cell_type": "code",
      "metadata": {
        "id": "K0-7ViEnbymA",
        "colab": {
          "base_uri": "https://localhost:8080/"
        },
        "outputId": "a7eae3d3-6431-445f-e3e4-b908fd2d061f"
      },
      "source": [
        "def my_func(x): \n",
        "    return x*2\n",
        "my_func(5)"
      ],
      "execution_count": null,
      "outputs": [
        {
          "output_type": "execute_result",
          "data": {
            "text/plain": [
              "10"
            ]
          },
          "metadata": {
            "tags": []
          },
          "execution_count": 100
        }
      ]
    },
    {
      "cell_type": "code",
      "metadata": {
        "id": "ECCCO9mpbymA",
        "colab": {
          "base_uri": "https://localhost:8080/"
        },
        "outputId": "c2fef18f-8fcd-4a38-9e13-338480795b51"
      },
      "source": [
        "def double(x =100):     # 함수의 인자를 default 값으로 지정 가능\n",
        "    return x*2\n",
        "double()"
      ],
      "execution_count": null,
      "outputs": [
        {
          "output_type": "execute_result",
          "data": {
            "text/plain": [
              "200"
            ]
          },
          "metadata": {
            "tags": []
          },
          "execution_count": 101
        }
      ]
    },
    {
      "cell_type": "code",
      "metadata": {
        "id": "wGEUjPdXbymA",
        "colab": {
          "base_uri": "https://localhost:8080/"
        },
        "outputId": "21e5d7e6-1526-4bb4-d628-0972d52206f7"
      },
      "source": [
        "def double_triple(x):      # 두 개 이상의 결과 값 리턴 가능 (튜플로 처리)\n",
        "    return x*2, x*3\n",
        "x, y = double_triple(4)\n",
        "x,y"
      ],
      "execution_count": null,
      "outputs": [
        {
          "output_type": "execute_result",
          "data": {
            "text/plain": [
              "(8, 12)"
            ]
          },
          "metadata": {
            "tags": []
          },
          "execution_count": 102
        }
      ]
    },
    {
      "cell_type": "markdown",
      "metadata": {
        "id": "8W8r3bZ0bymA"
      },
      "source": [
        "#### passing by value\n",
        "- if the value passed is immutable, the function does not modify the caller's value.\n",
        "- if it is mutable, the function may modify the caller's variable in-place."
      ]
    },
    {
      "cell_type": "code",
      "metadata": {
        "id": "L34rdTIubymA",
        "colab": {
          "base_uri": "https://localhost:8080/"
        },
        "outputId": "df5921a3-3d21-4d05-be54-f0e6da25ee93"
      },
      "source": [
        "def try_to_modify(x, y):\n",
        "    x = 23\n",
        "    y.append(42)\n",
        "    return\n",
        "    \n",
        "a = 77     # int - immutable variable\n",
        "b = [99]   # list - mutable variable\n",
        "\n",
        "print(a,b)\n",
        "try_to_modify(a,b)\n",
        "print (a,b)"
      ],
      "execution_count": null,
      "outputs": [
        {
          "output_type": "stream",
          "text": [
            "77 [99]\n",
            "77 [99, 42]\n"
          ],
          "name": "stdout"
        }
      ]
    },
    {
      "cell_type": "markdown",
      "metadata": {
        "id": "OKty5r5jbymA"
      },
      "source": [
        "# Modules, Programs\n",
        "#### ‘\\_\\_main\\_\\_ is the name of the scope in which top-level code executes.\n",
        "- A module’s \\_\\_name\\_\\_ is set equal to '\\_\\_main\\_\\_' when read from\n",
        "standard input, a script, or from an interactive prompt.\n",
        "- Code can be used both as library or main program\n",
        "\n",
        "  (ex) if __name__ == \"__main__\": your_code"
      ]
    },
    {
      "cell_type": "code",
      "metadata": {
        "id": "NLoZ9qiQbymB",
        "colab": {
          "base_uri": "https://localhost:8080/"
        },
        "outputId": "bc279cfd-4cf6-402f-c1cf-18277ba55429"
      },
      "source": [
        "def square(x):\n",
        "    return x * x\n",
        "\n",
        "if __name__ == '__main__':\n",
        "    print (\"test: square(42) ==\", square(42))\n",
        "    \n",
        "if __name__ == '__main__':\n",
        "    print (\"test: You are calling from main program, not from others as library call.\")"
      ],
      "execution_count": null,
      "outputs": [
        {
          "output_type": "stream",
          "text": [
            "test: square(42) == 1764\n",
            "test: You are calling from main program, not from others as library call.\n"
          ],
          "name": "stdout"
        }
      ]
    },
    {
      "cell_type": "markdown",
      "metadata": {
        "id": "OUXuuJTIbymB"
      },
      "source": [
        "### what is module?\n",
        "- code library\n",
        "- a file containing a set of functions you wnt to include in your application\n",
        "- When using a function from a module, use the syntax:\n",
        "> *module_name.function_name*\n",
        "- the module can contain functions but also variables of all types (arrays, dicts, ..)\n",
        "\n",
        "### Package\n",
        "- collection of modules\n",
        "\n",
        "### To create a module,\n",
        "\n",
        "- create a file and save it as \"mymodule.py\"\n",
        "> mymodule has one function and one dictionary\n",
        "\n",
        "#### to import module\n",
        "- from package import module\n",
        "- import package.module"
      ]
    },
    {
      "cell_type": "code",
      "metadata": {
        "scrolled": false,
        "id": "ONB0W75pbymB",
        "colab": {
          "base_uri": "https://localhost:8080/"
        },
        "outputId": "212ae18b-da22-45b9-c790-2bec19d75dc5"
      },
      "source": [
        "!type mymodule.py"
      ],
      "execution_count": null,
      "outputs": [
        {
          "output_type": "stream",
          "text": [
            "/bin/bash: line 0: type: mymodule.py: not found\n"
          ],
          "name": "stdout"
        }
      ]
    },
    {
      "cell_type": "code",
      "metadata": {
        "id": "Ex4wUE-YbymB"
      },
      "source": [
        "import mymodule\n",
        "dir(mymodule)"
      ],
      "execution_count": null,
      "outputs": []
    },
    {
      "cell_type": "code",
      "metadata": {
        "id": "xTdkcodcbymB"
      },
      "source": [
        "#\n",
        "import mymodule\n",
        "from mymodule import greeting\n",
        "mymodule.greeting(\"Jonathan\")\n",
        "greeting(\"Jeong\")\n",
        "print (mymodule.person1[\"age\"])"
      ],
      "execution_count": null,
      "outputs": []
    },
    {
      "cell_type": "code",
      "metadata": {
        "id": "mc7tURfYbymB"
      },
      "source": [
        "#  if you want to import only the person1 dictionary from the module\n",
        "from mymodule import person1\n",
        "print(person1[\"age\"])"
      ],
      "execution_count": null,
      "outputs": []
    },
    {
      "cell_type": "code",
      "metadata": {
        "id": "ZGOnXo3MbymC"
      },
      "source": [
        "# Built-in modules\n",
        "import platform\n",
        "x = platform.system()\n",
        "print(x)\n"
      ],
      "execution_count": null,
      "outputs": []
    },
    {
      "cell_type": "markdown",
      "metadata": {
        "id": "s42OAdsLbymC"
      },
      "source": [
        "# Exercise for Class\n",
        "- class: 붕어빵을 만들기 위한 기본 틀과 같은 개념 \n",
        "  (혹은 운전면허등을 만들기 위한 기본 틀)\n",
        "- insance: 이 틀로 만들어지는 각각의 붕어빵들 \n",
        "  (각각의 개인 정보를 넣어 여러 면허증을 만들어 냄)\n",
        "- self 변수: class 와 instance 를 연결해주는 역할\n",
        "- \\__init__() 함수 : class 에서 사용할 변수를 정의, 매개변수의 첫번째는 항상 self\n",
        "- \\__str__() 함수 : instance 자체를 print 로 출력하면 나오는 값"
      ]
    },
    {
      "cell_type": "code",
      "metadata": {
        "id": "bDH7GiVNbymC"
      },
      "source": [
        "# exercise for class\n",
        "\n",
        "# dir() # 현재 모듈 정보\n",
        "# dir(pd) # 모듈에 정의된 이름들 을 보여준다\n",
        "# __init__() : constructor method, it gets called when memory for the object is allocated.\n",
        "# self : special variable pointing to the current object \n",
        "\n",
        "import sys\n",
        "class myClass: \n",
        "    \"\"\" This is an example class for Python.\"\"\" \n",
        "    def __init__(self):\n",
        "        self.data = ['1','2'] \n",
        "    def __str__(self):\n",
        "        return \"I have my own data %s\"%(self.data)\n",
        "    i = 235 \n",
        "    def j (self): \n",
        "        return ('Hello, World!')"
      ],
      "execution_count": null,
      "outputs": []
    },
    {
      "cell_type": "code",
      "metadata": {
        "id": "LIc1mT3mbymC",
        "colab": {
          "base_uri": "https://localhost:8080/"
        },
        "outputId": "4d9094c8-99de-41e3-ebdc-4eb8e7964e2f"
      },
      "source": [
        "x = myClass()  # creates a new instance of the class and assigns this object to the local variable x.\n",
        "               # The instantiation operation (“calling” a class object) creates an empty object.\n",
        "x.i, x.j(), x.data, x.__doc__"
      ],
      "execution_count": null,
      "outputs": [
        {
          "output_type": "execute_result",
          "data": {
            "text/plain": [
              "(235, 'Hello, World!', ['1', '2'], ' This is an example class for Python.')"
            ]
          },
          "metadata": {
            "tags": []
          },
          "execution_count": 392
        }
      ]
    },
    {
      "cell_type": "code",
      "metadata": {
        "id": "wVTGJSAwbymC",
        "colab": {
          "base_uri": "https://localhost:8080/"
        },
        "outputId": "75103504-27db-4980-808c-35a56c731d3a"
      },
      "source": [
        "print(x)"
      ],
      "execution_count": null,
      "outputs": [
        {
          "output_type": "stream",
          "text": [
            "I have my own data ['1', '2']\n"
          ],
          "name": "stdout"
        }
      ]
    },
    {
      "cell_type": "code",
      "metadata": {
        "id": "s6ewNZz4bymC"
      },
      "source": [
        "# one more exercise\n",
        "\n",
        "class Complex: \n",
        "    def __init__(self,first,second): \n",
        "        self.r = first \n",
        "        self.i = second \n",
        "    def __str__(self):\n",
        "        return \"Complex number %.f + j%.f\"%(self.r, self.i)\n",
        "    def norm(self): \n",
        "        return((self.r*self.r + self.i*self.i)**0.5)"
      ],
      "execution_count": null,
      "outputs": []
    },
    {
      "cell_type": "code",
      "metadata": {
        "id": "I9MavbV7bymD",
        "colab": {
          "base_uri": "https://localhost:8080/"
        },
        "outputId": "2cf17feb-1daf-4933-e883-69714a653fa9"
      },
      "source": [
        "c = Complex(3,4) \n",
        "c.r, c.i, c.norm()"
      ],
      "execution_count": null,
      "outputs": [
        {
          "output_type": "execute_result",
          "data": {
            "text/plain": [
              "(3, 4, 5.0)"
            ]
          },
          "metadata": {
            "tags": []
          },
          "execution_count": 396
        }
      ]
    },
    {
      "cell_type": "code",
      "metadata": {
        "id": "YkkFobt9bymD",
        "colab": {
          "base_uri": "https://localhost:8080/"
        },
        "outputId": "a4e0a3dd-95b7-42d4-a1a0-739eaa9e8687"
      },
      "source": [
        "print(c)"
      ],
      "execution_count": null,
      "outputs": [
        {
          "output_type": "stream",
          "text": [
            "Complex number 3 + j4\n"
          ],
          "name": "stdout"
        }
      ]
    },
    {
      "cell_type": "markdown",
      "metadata": {
        "id": "9GQ8sQqObymD"
      },
      "source": [
        "### 랜덤 숫자 and  Linspace, Logspace"
      ]
    },
    {
      "cell_type": "code",
      "metadata": {
        "id": "_bMnqPcebymD",
        "colab": {
          "base_uri": "https://localhost:8080/"
        },
        "outputId": "8548fb01-e826-4885-8ec3-79a61d54f37a"
      },
      "source": [
        "import numpy as np\n",
        "np.random.seed(42)\n",
        "print(np.random.rand(5))          # 0 과 1 사이의 랜덤 숫자 5개\n",
        "print(5 + 0.5*np.random.rand(5).round(2))\n",
        "print(np.random.randn(5))         # normal distribution with mean 0, sigma 1\n",
        "print(np.random.rand(2,3,4))      # 2x3x4 arrays\n",
        "print(np.random.randint(1,20,5))  # 5 개 in (1,20)"
      ],
      "execution_count": null,
      "outputs": [
        {
          "output_type": "stream",
          "text": [
            "[0.37454012 0.95071431 0.73199394 0.59865848 0.15601864]\n",
            "[5.08  5.03  5.435 5.3   5.355]\n",
            "[-0.46947439  0.54256004 -0.46341769 -0.46572975  0.24196227]\n",
            "[[[0.43194502 0.29122914 0.61185289 0.13949386]\n",
            "  [0.29214465 0.36636184 0.45606998 0.78517596]\n",
            "  [0.19967378 0.51423444 0.59241457 0.04645041]]\n",
            "\n",
            " [[0.60754485 0.17052412 0.06505159 0.94888554]\n",
            "  [0.96563203 0.80839735 0.30461377 0.09767211]\n",
            "  [0.68423303 0.44015249 0.12203823 0.49517691]]]\n",
            "[15  3 14 17  4]\n"
          ],
          "name": "stdout"
        }
      ]
    },
    {
      "cell_type": "code",
      "metadata": {
        "id": "rmoxJRzdbymD",
        "colab": {
          "base_uri": "https://localhost:8080/"
        },
        "outputId": "f5523805-346c-4b4f-cf6d-cc8fd33723ec"
      },
      "source": [
        "print(np.linspace(1,20,10))\n",
        "print(np.logspace(1,5,5))"
      ],
      "execution_count": null,
      "outputs": [
        {
          "output_type": "stream",
          "text": [
            "[ 1.          3.11111111  5.22222222  7.33333333  9.44444444 11.55555556\n",
            " 13.66666667 15.77777778 17.88888889 20.        ]\n",
            "[1.e+01 1.e+02 1.e+03 1.e+04 1.e+05]\n"
          ],
          "name": "stdout"
        }
      ]
    },
    {
      "cell_type": "markdown",
      "metadata": {
        "id": "Bzmk8c70bymD"
      },
      "source": [
        "### 몬테칼로 분석 - 확률 기반의 시뮬레이션"
      ]
    },
    {
      "cell_type": "code",
      "metadata": {
        "id": "BNyWfvYjbymD",
        "colab": {
          "base_uri": "https://localhost:8080/",
          "height": 301
        },
        "outputId": "41f49af5-fad4-4023-f87f-991cb04c967e"
      },
      "source": [
        "# first version of calculating pi\n",
        "import numpy as np\n",
        "\n",
        "# simple code for cqalculating pi\n",
        "N=10000\n",
        "x=np.random.rand(N).round(2)          # simple version\n",
        "y=np.random.rand(N).round(2)\n",
        "\n",
        "cnt=0\n",
        "for n in range (N):\n",
        "    if ((x[n]*x[n]) + (y[n]*y[n]) < 1.0) :\n",
        "        cnt += 1\n",
        "    else :\n",
        "        continue\n",
        "pi = 4*cnt/N\n",
        "print(pi)\n",
        "\n",
        "import matplotlib.pyplot as plt\n",
        "%matplotlib inline\n",
        "\n",
        "plt.figure(figsize=(4,4))      # plotting a circle\n",
        "plt.scatter(x,y, s=1)          # s: marker size\n",
        "\n",
        "a = np.linspace(0,1,100)\n",
        "b = (1-a*a)**0.5\n",
        "\n",
        "plt.plot(a,b, c='r')"
      ],
      "execution_count": null,
      "outputs": [
        {
          "output_type": "stream",
          "text": [
            "3.1432\n"
          ],
          "name": "stdout"
        },
        {
          "output_type": "execute_result",
          "data": {
            "text/plain": [
              "[<matplotlib.lines.Line2D at 0x7f61d8bd4c18>]"
            ]
          },
          "metadata": {
            "tags": []
          },
          "execution_count": 400
        },
        {
          "output_type": "display_data",
          "data": {
            "image/png": "[encoded data removed]",
            "text/plain": [
              "<Figure size 288x288 with 1 Axes>"
            ]
          },
          "metadata": {
            "tags": [],
            "needs_background": "light"
          }
        }
      ]
    },
    {
      "cell_type": "code",
      "metadata": {
        "scrolled": true,
        "id": "6R3SAaTlbymE",
        "colab": {
          "base_uri": "https://localhost:8080/",
          "height": 229
        },
        "outputId": "edf669f7-4915-4d3f-960f-6ea6198485aa"
      },
      "source": [
        "n = 10000\n",
        "x = np.random.rand(n)\n",
        "y = np.random.rand(n) \n",
        "plt.figure(figsize=(3,3)) \n",
        "plt.scatter(x,y, s=1) \n",
        "xx=np.linspace(0,1,100) \n",
        "plt.plot(xx, (1-xx*xx)**0.5, c='r')\n",
        "pi = ((x**2 + y**2) < 1).mean()*4 ; pi\n",
        "# print (sum((x**2+ y**2) < 1)*4/n)"
      ],
      "execution_count": null,
      "outputs": [
        {
          "output_type": "execute_result",
          "data": {
            "text/plain": [
              "3.1204"
            ]
          },
          "metadata": {
            "tags": []
          },
          "execution_count": 401
        },
        {
          "output_type": "display_data",
          "data": {
            "image/png": "[encoded data removed]",
            "text/plain": [
              "<Figure size 216x216 with 1 Axes>"
            ]
          },
          "metadata": {
            "tags": [],
            "needs_background": "light"
          }
        }
      ]
    },
    {
      "cell_type": "code",
      "metadata": {
        "id": "KlHoQqRHbymE",
        "colab": {
          "base_uri": "https://localhost:8080/"
        },
        "outputId": "a0ef01e5-15ec-45b2-937b-496f4fd79353"
      },
      "source": [
        "x=np.random.rand(5).round(2)\n",
        "y=np.random.rand(5).round(2)\n",
        "\n",
        "print (x); print (y)\n",
        "((x*x + y*y) < 1), ((x*x + y*y) < 1).mean()"
      ],
      "execution_count": null,
      "outputs": [
        {
          "output_type": "stream",
          "text": [
            "[0.52 0.6  0.   0.13 0.52]\n",
            "[0.23 0.08 0.22 0.78 0.54]\n"
          ],
          "name": "stdout"
        },
        {
          "output_type": "execute_result",
          "data": {
            "text/plain": [
              "(array([ True,  True,  True,  True,  True]), 1.0)"
            ]
          },
          "metadata": {
            "tags": []
          },
          "execution_count": 402
        }
      ]
    },
    {
      "cell_type": "code",
      "metadata": {
        "id": "kzxghstbbymE",
        "colab": {
          "base_uri": "https://localhost:8080/"
        },
        "outputId": "bdde2d5b-8120-467a-f6ce-6908e16a44a2"
      },
      "source": [
        "n = 5\n",
        "x = np.random.rand(n).round(2)\n",
        "y = np.random.rand(n).round(2)\n",
        "x,y"
      ],
      "execution_count": null,
      "outputs": [
        {
          "output_type": "execute_result",
          "data": {
            "text/plain": [
              "(array([0.19, 0.02, 0.36, 0.36, 0.74]), array([0.92, 0.37, 0.69, 0.63, 0.42]))"
            ]
          },
          "metadata": {
            "tags": []
          },
          "execution_count": 403
        }
      ]
    },
    {
      "cell_type": "code",
      "metadata": {
        "id": "HjplQpy_bymE",
        "colab": {
          "base_uri": "https://localhost:8080/",
          "height": 229
        },
        "outputId": "ba0ee079-9ce1-4e7a-d392-79214e1c3d6d"
      },
      "source": [
        "plt.figure(figsize=(3,3)) \n",
        "plt.scatter(x,y, s=50) "
      ],
      "execution_count": null,
      "outputs": [
        {
          "output_type": "execute_result",
          "data": {
            "text/plain": [
              "<matplotlib.collections.PathCollection at 0x7f61d8aca630>"
            ]
          },
          "metadata": {
            "tags": []
          },
          "execution_count": 404
        },
        {
          "output_type": "display_data",
          "data": {
            "image/png": "[encoded data removed]",
            "text/plain": [
              "<Figure size 216x216 with 1 Axes>"
            ]
          },
          "metadata": {
            "tags": [],
            "needs_background": "light"
          }
        }
      ]
    },
    {
      "cell_type": "code",
      "metadata": {
        "id": "DKf6wHUxbymE",
        "colab": {
          "base_uri": "https://localhost:8080/",
          "height": 229
        },
        "outputId": "7e11a6e6-99b7-4906-d028-a4ef3ceaa163"
      },
      "source": [
        "xx=np.linspace(0,1,100) \n",
        "plt.figure(figsize=(3,3)) \n",
        "plt.plot(xx, (1-xx*xx)**0.5, c='r')"
      ],
      "execution_count": null,
      "outputs": [
        {
          "output_type": "execute_result",
          "data": {
            "text/plain": [
              "[<matplotlib.lines.Line2D at 0x7f61d8a20d68>]"
            ]
          },
          "metadata": {
            "tags": []
          },
          "execution_count": 405
        },
        {
          "output_type": "display_data",
          "data": {
            "image/png": "[encoded data removed]",
            "text/plain": [
              "<Figure size 216x216 with 1 Axes>"
            ]
          },
          "metadata": {
            "tags": [],
            "needs_background": "light"
          }
        }
      ]
    },
    {
      "cell_type": "code",
      "metadata": {
        "id": "zqUQDLERbymF",
        "colab": {
          "base_uri": "https://localhost:8080/"
        },
        "outputId": "b1550bca-bcb1-4656-90c6-0fc2b5ee48af"
      },
      "source": [
        "z = np.random.rand(50)\n",
        "print(z), print(z < 0.5)\n",
        "(z < 0.5).mean()\n",
        "z[z < 0.5].mean().round(2)"
      ],
      "execution_count": null,
      "outputs": [
        {
          "output_type": "stream",
          "text": [
            "[0.06589008 0.4734645  0.35413856 0.55019439 0.12539708 0.7242398\n",
            " 0.78775043 0.38846164 0.17527586 0.62357801 0.95581197 0.70050317\n",
            " 0.12348223 0.3972201  0.91536885 0.63442262 0.1471522  0.7245922\n",
            " 0.35351879 0.48953439 0.41504656 0.7256966  0.21790613 0.38836978\n",
            " 0.74454572 0.70478279 0.20174428 0.35066394 0.01436402 0.53017252\n",
            " 0.2809414  0.01186592 0.42470501 0.92686971 0.92340117 0.37210285\n",
            " 0.44917788 0.24268146 0.06830778 0.69392668 0.80005271 0.88010464\n",
            " 0.93528729 0.91596337 0.02738342 0.97809491 0.37950202 0.88610768\n",
            " 0.4407602  0.42219051]\n",
            "[ True  True  True False  True False False  True  True False False False\n",
            "  True  True False False  True False  True  True  True False  True  True\n",
            " False False  True  True  True False  True  True  True False False  True\n",
            "  True  True  True False False False False False  True False  True False\n",
            "  True  True]\n"
          ],
          "name": "stdout"
        },
        {
          "output_type": "execute_result",
          "data": {
            "text/plain": [
              "0.28"
            ]
          },
          "metadata": {
            "tags": []
          },
          "execution_count": 406
        }
      ]
    },
    {
      "cell_type": "code",
      "metadata": {
        "id": "cC6mXaa7bymF"
      },
      "source": [
        "pi = ((x**2 + y**2) < 1).mean()*4 "
      ],
      "execution_count": null,
      "outputs": []
    },
    {
      "cell_type": "code",
      "metadata": {
        "id": "fnE3cBMibymF",
        "colab": {
          "base_uri": "https://localhost:8080/"
        },
        "outputId": "44c45c61-b245-4313-c088-6b5e0490aa9b"
      },
      "source": [
        "# np.random.seed(42)\n",
        "x = np.random.randint(1,7, 5) ;x"
      ],
      "execution_count": null,
      "outputs": [
        {
          "output_type": "execute_result",
          "data": {
            "text/plain": [
              "array([5, 4, 2, 1, 3])"
            ]
          },
          "metadata": {
            "tags": []
          },
          "execution_count": 408
        }
      ]
    },
    {
      "cell_type": "markdown",
      "metadata": {
        "id": "d6xNw_u8bymF"
      },
      "source": [
        "### show 명령\n",
        "- show 명령은 시각화 명령을 실제로 차트로 렌더링(rendering)하고 마우스 움직임 등의 이벤트를 기다리라는 지시이다. \n",
        "  주피터 노트북에서는 셀 단위로 플롯 명령을 자동 렌더링 해주므로 show 명령이 필요없지만 일반 파이썬 인터프리터로 \n",
        "  가동되는 경우를 대비하여 항상 마지막에 실행하도록 한다. show 명령을 주면 마지막 플롯 명령으로부터 반환된 플롯 객체의 \n",
        "  표현도 가려주는 효과가 있다."
      ]
    },
    {
      "cell_type": "code",
      "metadata": {
        "scrolled": true,
        "id": "0-ZbI7jCbymF"
      },
      "source": [
        "x = np.random.randint(1,7,10000000) \n",
        "plt.hist(x, bins = 6, width=0.6) \n",
        "plt.show()"
      ],
      "execution_count": null,
      "outputs": []
    },
    {
      "cell_type": "code",
      "metadata": {
        "scrolled": true,
        "id": "T9MogEdtbymF"
      },
      "source": [
        "z = 0\n",
        "n = 4          # number of indices thrown\n",
        "for i in range(n):\n",
        "    x = np.random.randint(1,7,10000)  # 10000 random numbers in [1,7)\n",
        "    z = z + x\n",
        "plt.hist(z, bins = n*5+1, width=0.6) \n",
        "plt.show()"
      ],
      "execution_count": null,
      "outputs": []
    },
    {
      "cell_type": "code",
      "metadata": {
        "id": "oeC7nmqYbymG"
      },
      "source": [
        "x = np.random.randn(5) ;x"
      ],
      "execution_count": null,
      "outputs": []
    },
    {
      "cell_type": "code",
      "metadata": {
        "scrolled": true,
        "id": "rKhR8vJbbymG"
      },
      "source": [
        "x = np.random.randn(100000) \n",
        "plt.hist(x, bins = 100, width=0.03) \n",
        "plt.show()"
      ],
      "execution_count": null,
      "outputs": []
    },
    {
      "cell_type": "code",
      "metadata": {
        "id": "TYhAjA5obymG"
      },
      "source": [
        "x = np.random.rand(10000) \n",
        "plt.hist(x, bins = 100, width=0.01) \n",
        "plt.show()"
      ],
      "execution_count": null,
      "outputs": []
    },
    {
      "cell_type": "code",
      "metadata": {
        "id": "lEYQZkQHbymG"
      },
      "source": [
        "import numpy as np\n",
        "import matplotlib.pyplot as plt\n",
        "np.random.rand(3)\n",
        "\n",
        "t = np.arange(0., 5., 0.2)  # 0 ~ 5 를 0.2 만큼\n",
        "# t\n",
        "\n",
        "plt.title(\"라인 플롯에서 여러개의 선 그리기\")\n",
        "plt.plot(t, t, 'r--', t, 0.5 * t**2, 'bs:', t, 0.2 * t**3, 'g^-') # color, marker, line style\n",
        "plt.show()"
      ],
      "execution_count": null,
      "outputs": []
    },
    {
      "cell_type": "markdown",
      "metadata": {
        "id": "Mwww_fFvbymG"
      },
      "source": [
        "## 연습 for subgraph (2020.1.6)"
      ]
    },
    {
      "cell_type": "code",
      "metadata": {
        "id": "MnpR_gqwbymG"
      },
      "source": [
        "# example 1\n",
        "fig = plt.figure()             # new figure 생성\n",
        "ax1 = fig.add_subplot(1,2,1)   # axes - fig 내에서의 좌표평면 (그림이 그려지는)\n",
        "ax2 = fig.add_subplot(1,2,2)\n",
        "\n",
        "ax1.set(xlim=[0., 7.], ylim=[0., 50.])\n",
        "x = np.array([1,3,6,4])\n",
        "y = np.array([10,20,25,40])\n",
        "ax1.set_title('Example', size=20)\n",
        "ax1.set_xlabel('xAxis', size=10)\n",
        "ax1.set_ylabel('yAxis', size=15)\n",
        "ax1.plot(x, y)\n",
        "\n",
        "x = np.array([0.3, 3.8, 1.2, 2.5])\n",
        "y = np.array([11, 25, 9, 26])\n",
        "ax2.scatter(x, y, marker='^', color='darkgreen')\n",
        "plt.show()"
      ],
      "execution_count": null,
      "outputs": []
    },
    {
      "cell_type": "code",
      "metadata": {
        "id": "wHmzw_JibymH"
      },
      "source": [
        "# example2\n",
        "import numpy as np\n",
        "import matplotlib.pyplot as plt\n",
        "\n",
        "# Compute the x and y coordinates for points on sine and cosine curves\n",
        "x = np.arange(0, 3 * np.pi, 0.1)\n",
        "y_sin = np.sin(x)\n",
        "y_cos = np.cos(x)\n",
        "\n",
        "# Set up a subplot grid that has height 2 and width 1,\n",
        "# and set the first such subplot as active.\n",
        "plt.subplot(2, 1, 1)\n",
        "\n",
        "# Make the first plot\n",
        "plt.plot(x, y_sin)\n",
        "plt.title('Sine')\n",
        "plt.subplots_adjust(wspace=1, hspace=0.5)\n",
        "\n",
        "# Set the second subplot as active, and make the second plot.\n",
        "plt.subplot(2, 1, 2)\n",
        "plt.plot(x, y_cos, c='r')\n",
        "plt.title('Cosine')\n",
        "\n",
        "# Show the figure.\n",
        "plt.show()"
      ],
      "execution_count": null,
      "outputs": []
    },
    {
      "cell_type": "markdown",
      "metadata": {
        "id": "waPcIMfEbymH"
      },
      "source": [
        "# Images\n",
        "- You can use the 'imshow' function to show images\n",
        "- image data format: png의 경우는 무손실 그림 저장 포맷이고, RGBA(Red, Green, Blue, Alpha)라는 네가지 레이어로 이미지를 저장합니다. jpg의 경우는 손실 그림 저장 포맷이고, RGB(Red, Green, Blue)로 이미지를 저장합니다."
      ]
    },
    {
      "cell_type": "code",
      "metadata": {
        "id": "hpzKW38sbymH"
      },
      "source": [
        "# to how image \n",
        "import numpy as np\n",
        "import matplotlib.pyplot as plt\n",
        "import matplotlib.image as mpimg\n",
        "\n",
        "img = mpimg.imread('cat161.jpg')\n",
        "img_tinted = img * [0.95, 0.95, 0.95]\n",
        "\n",
        "# Show the original image\n",
        "plt.subplot(1, 2, 1)\n",
        "plt.imshow(img)\n",
        "\n",
        "# Show the tinted image\n",
        "plt.subplot(1, 2, 2)\n",
        "\n",
        "# A slight gotcha with imshow is that it might give strange results\n",
        "# if presented with data that is not uint8. To work around this, we\n",
        "# explicitly cast the image to uint8 before displaying it.\n",
        "plt.imshow(np.uint8(img_tinted))\n",
        "plt.show()"
      ],
      "execution_count": null,
      "outputs": []
    },
    {
      "cell_type": "code",
      "metadata": {
        "id": "L1B4KsM7bymH"
      },
      "source": [
        "!dir"
      ],
      "execution_count": null,
      "outputs": []
    },
    {
      "cell_type": "code",
      "metadata": {
        "id": "es4fRS33bymH"
      },
      "source": [
        "################\n",
        "x = [1,2,3,4]\n",
        "help(x)"
      ],
      "execution_count": null,
      "outputs": []
    },
    {
      "cell_type": "code",
      "metadata": {
        "id": "h93Wc_uKbymH"
      },
      "source": [
        "type(1)"
      ],
      "execution_count": null,
      "outputs": []
    },
    {
      "cell_type": "code",
      "metadata": {
        "id": "ea3y4BHibymI"
      },
      "source": [
        "type(1.2)"
      ],
      "execution_count": null,
      "outputs": []
    },
    {
      "cell_type": "code",
      "metadata": {
        "id": "Tje3bhTEbymI"
      },
      "source": [
        "dir(1)"
      ],
      "execution_count": null,
      "outputs": []
    },
    {
      "cell_type": "code",
      "metadata": {
        "id": "27tjFHYObymI"
      },
      "source": [
        "dir(int())"
      ],
      "execution_count": null,
      "outputs": []
    },
    {
      "cell_type": "markdown",
      "metadata": {
        "id": "RzZV7ni3bymI"
      },
      "source": [
        "#### The set() builtin creates a Python set from the given iterable."
      ]
    },
    {
      "cell_type": "code",
      "metadata": {
        "id": "TH-9yXp9bymI"
      },
      "source": [
        "print(set())\n",
        "\n",
        "# from string\n",
        "print(set('Python'))\n",
        "\n",
        "# from tuple\n",
        "print(set(('a', 'e', 'i', 'o', 'u')))\n",
        "\n",
        "# from list\n",
        "print(set(['a', 'e', 'i', 'o', 'u']))\n",
        "\n",
        "# from range\n",
        "print(set(range(5)))"
      ],
      "execution_count": null,
      "outputs": []
    },
    {
      "cell_type": "code",
      "metadata": {
        "id": "WCCnbfGrbymJ"
      },
      "source": [
        ""
      ],
      "execution_count": null,
      "outputs": []
    }
  ]
}